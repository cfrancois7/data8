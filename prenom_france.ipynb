{
 "cells": [
  {
   "cell_type": "markdown",
   "metadata": {
    "heading_collapsed": true
   },
   "source": [
    "# Importer les datasets"
   ]
  },
  {
   "cell_type": "code",
   "execution_count": 1,
   "metadata": {
    "hidden": true
   },
   "outputs": [],
   "source": [
    "import pandas as pd"
   ]
  },
  {
   "cell_type": "code",
   "execution_count": 2,
   "metadata": {
    "hidden": true
   },
   "outputs": [],
   "source": [
    "# data_sample = pd.read_csv(\"dpt2018.csv\",\n",
    "#                           sep=\";\",\n",
    "#                           na_values=['XXXX', 'XX'],\n",
    "#                           nrows=20)\n",
    "\n",
    "# import data\n",
    "data = pd.read_csv(\"dpt2018.csv\",\n",
    "                   sep=\";\",\n",
    "                   na_values=['XXXX', 'XX'])"
   ]
  },
  {
   "cell_type": "code",
   "execution_count": 134,
   "metadata": {
    "hidden": true
   },
   "outputs": [
    {
     "name": "stdout",
     "output_type": "stream",
     "text": [
      "<class 'pandas.core.frame.DataFrame'>\n",
      "RangeIndex: 20 entries, 0 to 19\n",
      "Data columns (total 5 columns):\n",
      "sexe        20 non-null int64\n",
      "preusuel    20 non-null object\n",
      "annais      14 non-null float64\n",
      "dpt         14 non-null float64\n",
      "nombre      20 non-null int64\n",
      "dtypes: float64(2), int64(2), object(1)\n",
      "memory usage: 928.0+ bytes\n"
     ]
    }
   ],
   "source": [
    "data_sample.info()"
   ]
  },
  {
   "cell_type": "code",
   "execution_count": 3,
   "metadata": {
    "hidden": true
   },
   "outputs": [],
   "source": []
  },
  {
   "cell_type": "code",
   "execution_count": 136,
   "metadata": {
    "hidden": true
   },
   "outputs": [],
   "source": [
    "data['sexe_txt'] = data.sexe.replace({1:'homme', 2:'femme'})"
   ]
  },
  {
   "cell_type": "code",
   "execution_count": 142,
   "metadata": {
    "hidden": true
   },
   "outputs": [
    {
     "data": {
      "text/html": [
       "<div>\n",
       "<style scoped>\n",
       "    .dataframe tbody tr th:only-of-type {\n",
       "        vertical-align: middle;\n",
       "    }\n",
       "\n",
       "    .dataframe tbody tr th {\n",
       "        vertical-align: top;\n",
       "    }\n",
       "\n",
       "    .dataframe thead th {\n",
       "        text-align: right;\n",
       "    }\n",
       "</style>\n",
       "<table border=\"1\" class=\"dataframe\">\n",
       "  <thead>\n",
       "    <tr style=\"text-align: right;\">\n",
       "      <th></th>\n",
       "      <th>sexe</th>\n",
       "      <th>preusuel</th>\n",
       "      <th>annais</th>\n",
       "      <th>dpt</th>\n",
       "      <th>nombre</th>\n",
       "      <th>sexe_txt</th>\n",
       "    </tr>\n",
       "  </thead>\n",
       "  <tbody>\n",
       "    <tr>\n",
       "      <td>0</td>\n",
       "      <td>1</td>\n",
       "      <td>A</td>\n",
       "      <td>NaN</td>\n",
       "      <td>NaN</td>\n",
       "      <td>27</td>\n",
       "      <td>homme</td>\n",
       "    </tr>\n",
       "    <tr>\n",
       "      <td>1</td>\n",
       "      <td>1</td>\n",
       "      <td>AADAM</td>\n",
       "      <td>NaN</td>\n",
       "      <td>NaN</td>\n",
       "      <td>27</td>\n",
       "      <td>homme</td>\n",
       "    </tr>\n",
       "    <tr>\n",
       "      <td>2</td>\n",
       "      <td>1</td>\n",
       "      <td>AADEL</td>\n",
       "      <td>NaN</td>\n",
       "      <td>NaN</td>\n",
       "      <td>55</td>\n",
       "      <td>homme</td>\n",
       "    </tr>\n",
       "    <tr>\n",
       "      <td>3</td>\n",
       "      <td>1</td>\n",
       "      <td>AADIL</td>\n",
       "      <td>1983.0</td>\n",
       "      <td>84.0</td>\n",
       "      <td>3</td>\n",
       "      <td>homme</td>\n",
       "    </tr>\n",
       "    <tr>\n",
       "      <td>4</td>\n",
       "      <td>1</td>\n",
       "      <td>AADIL</td>\n",
       "      <td>1992.0</td>\n",
       "      <td>92.0</td>\n",
       "      <td>3</td>\n",
       "      <td>homme</td>\n",
       "    </tr>\n",
       "    <tr>\n",
       "      <td>...</td>\n",
       "      <td>...</td>\n",
       "      <td>...</td>\n",
       "      <td>...</td>\n",
       "      <td>...</td>\n",
       "      <td>...</td>\n",
       "      <td>...</td>\n",
       "    </tr>\n",
       "    <tr>\n",
       "      <td>3624989</td>\n",
       "      <td>2</td>\n",
       "      <td>ÉYA</td>\n",
       "      <td>2014.0</td>\n",
       "      <td>69.0</td>\n",
       "      <td>3</td>\n",
       "      <td>femme</td>\n",
       "    </tr>\n",
       "    <tr>\n",
       "      <td>3624990</td>\n",
       "      <td>2</td>\n",
       "      <td>ÉYA</td>\n",
       "      <td>NaN</td>\n",
       "      <td>NaN</td>\n",
       "      <td>23</td>\n",
       "      <td>femme</td>\n",
       "    </tr>\n",
       "    <tr>\n",
       "      <td>3624991</td>\n",
       "      <td>2</td>\n",
       "      <td>ÏNAYA</td>\n",
       "      <td>NaN</td>\n",
       "      <td>NaN</td>\n",
       "      <td>21</td>\n",
       "      <td>femme</td>\n",
       "    </tr>\n",
       "    <tr>\n",
       "      <td>3624992</td>\n",
       "      <td>2</td>\n",
       "      <td>ÖZGE</td>\n",
       "      <td>NaN</td>\n",
       "      <td>NaN</td>\n",
       "      <td>30</td>\n",
       "      <td>femme</td>\n",
       "    </tr>\n",
       "    <tr>\n",
       "      <td>3624993</td>\n",
       "      <td>2</td>\n",
       "      <td>ÖZLEM</td>\n",
       "      <td>NaN</td>\n",
       "      <td>NaN</td>\n",
       "      <td>95</td>\n",
       "      <td>femme</td>\n",
       "    </tr>\n",
       "  </tbody>\n",
       "</table>\n",
       "<p>3624994 rows × 6 columns</p>\n",
       "</div>"
      ],
      "text/plain": [
       "         sexe preusuel  annais   dpt  nombre sexe_txt\n",
       "0           1        A     NaN   NaN      27    homme\n",
       "1           1    AADAM     NaN   NaN      27    homme\n",
       "2           1    AADEL     NaN   NaN      55    homme\n",
       "3           1    AADIL  1983.0  84.0       3    homme\n",
       "4           1    AADIL  1992.0  92.0       3    homme\n",
       "...       ...      ...     ...   ...     ...      ...\n",
       "3624989     2      ÉYA  2014.0  69.0       3    femme\n",
       "3624990     2      ÉYA     NaN   NaN      23    femme\n",
       "3624991     2    ÏNAYA     NaN   NaN      21    femme\n",
       "3624992     2     ÖZGE     NaN   NaN      30    femme\n",
       "3624993     2    ÖZLEM     NaN   NaN      95    femme\n",
       "\n",
       "[3624994 rows x 6 columns]"
      ]
     },
     "execution_count": 142,
     "metadata": {},
     "output_type": "execute_result"
    }
   ],
   "source": [
    "data"
   ]
  },
  {
   "cell_type": "markdown",
   "metadata": {
    "heading_collapsed": true
   },
   "source": [
    "# Quelques exercices basics"
   ]
  },
  {
   "cell_type": "markdown",
   "metadata": {
    "heading_collapsed": true,
    "hidden": true
   },
   "source": [
    "## Nombre de prénom masculin/féminin par année"
   ]
  },
  {
   "cell_type": "code",
   "execution_count": 104,
   "metadata": {
    "hidden": true
   },
   "outputs": [
    {
     "data": {
      "text/html": [
       "<div>\n",
       "<style scoped>\n",
       "    .dataframe tbody tr th:only-of-type {\n",
       "        vertical-align: middle;\n",
       "    }\n",
       "\n",
       "    .dataframe tbody tr th {\n",
       "        vertical-align: top;\n",
       "    }\n",
       "\n",
       "    .dataframe thead th {\n",
       "        text-align: right;\n",
       "    }\n",
       "</style>\n",
       "<table border=\"1\" class=\"dataframe\">\n",
       "  <thead>\n",
       "    <tr style=\"text-align: right;\">\n",
       "      <th></th>\n",
       "      <th></th>\n",
       "      <th>nombre</th>\n",
       "    </tr>\n",
       "    <tr>\n",
       "      <th>annais</th>\n",
       "      <th>sexe_txt</th>\n",
       "      <th></th>\n",
       "    </tr>\n",
       "  </thead>\n",
       "  <tbody>\n",
       "    <tr>\n",
       "      <td rowspan=\"2\" valign=\"top\">1900.0</td>\n",
       "      <td>femme</td>\n",
       "      <td>225100</td>\n",
       "    </tr>\n",
       "    <tr>\n",
       "      <td>homme</td>\n",
       "      <td>168332</td>\n",
       "    </tr>\n",
       "    <tr>\n",
       "      <td rowspan=\"2\" valign=\"top\">1901.0</td>\n",
       "      <td>femme</td>\n",
       "      <td>245022</td>\n",
       "    </tr>\n",
       "    <tr>\n",
       "      <td>homme</td>\n",
       "      <td>186710</td>\n",
       "    </tr>\n",
       "    <tr>\n",
       "      <td>1902.0</td>\n",
       "      <td>femme</td>\n",
       "      <td>248817</td>\n",
       "    </tr>\n",
       "    <tr>\n",
       "      <td>...</td>\n",
       "      <td>...</td>\n",
       "      <td>...</td>\n",
       "    </tr>\n",
       "    <tr>\n",
       "      <td>2016.0</td>\n",
       "      <td>homme</td>\n",
       "      <td>309316</td>\n",
       "    </tr>\n",
       "    <tr>\n",
       "      <td rowspan=\"2\" valign=\"top\">2017.0</td>\n",
       "      <td>femme</td>\n",
       "      <td>271703</td>\n",
       "    </tr>\n",
       "    <tr>\n",
       "      <td>homme</td>\n",
       "      <td>301974</td>\n",
       "    </tr>\n",
       "    <tr>\n",
       "      <td rowspan=\"2\" valign=\"top\">2018.0</td>\n",
       "      <td>femme</td>\n",
       "      <td>266733</td>\n",
       "    </tr>\n",
       "    <tr>\n",
       "      <td>homme</td>\n",
       "      <td>297526</td>\n",
       "    </tr>\n",
       "  </tbody>\n",
       "</table>\n",
       "<p>238 rows × 1 columns</p>\n",
       "</div>"
      ],
      "text/plain": [
       "                 nombre\n",
       "annais sexe_txt        \n",
       "1900.0 femme     225100\n",
       "       homme     168332\n",
       "1901.0 femme     245022\n",
       "       homme     186710\n",
       "1902.0 femme     248817\n",
       "...                 ...\n",
       "2016.0 homme     309316\n",
       "2017.0 femme     271703\n",
       "       homme     301974\n",
       "2018.0 femme     266733\n",
       "       homme     297526\n",
       "\n",
       "[238 rows x 1 columns]"
      ]
     },
     "execution_count": 104,
     "metadata": {},
     "output_type": "execute_result"
    }
   ],
   "source": [
    "data.loc[:,['annais','sexe_txt', 'nombre']].groupby(['annais','sexe_txt']).sum()"
   ]
  },
  {
   "cell_type": "markdown",
   "metadata": {
    "hidden": true
   },
   "source": [
    "## Proportion de prénom masculin/féminin par an"
   ]
  },
  {
   "cell_type": "code",
   "execution_count": 6,
   "metadata": {
    "hidden": true
   },
   "outputs": [],
   "source": [
    "# work with another variable\n",
    "data_prop = data.loc[:,['annais','sexe_txt', 'nombre']].groupby(['annais','sexe_txt']).sum()"
   ]
  },
  {
   "cell_type": "code",
   "execution_count": 106,
   "metadata": {
    "hidden": true
   },
   "outputs": [],
   "source": [
    "ratio = lambda x:100 * x / float(x.sum())\n",
    "data_prop = data_prop.groupby(level=0).apply(ratio)"
   ]
  },
  {
   "cell_type": "code",
   "execution_count": 8,
   "metadata": {
    "hidden": true
   },
   "outputs": [
    {
     "data": {
      "text/html": [
       "<div>\n",
       "<style scoped>\n",
       "    .dataframe tbody tr th:only-of-type {\n",
       "        vertical-align: middle;\n",
       "    }\n",
       "\n",
       "    .dataframe tbody tr th {\n",
       "        vertical-align: top;\n",
       "    }\n",
       "\n",
       "    .dataframe thead th {\n",
       "        text-align: right;\n",
       "    }\n",
       "</style>\n",
       "<table border=\"1\" class=\"dataframe\">\n",
       "  <thead>\n",
       "    <tr style=\"text-align: right;\">\n",
       "      <th></th>\n",
       "      <th></th>\n",
       "      <th>nombre</th>\n",
       "    </tr>\n",
       "    <tr>\n",
       "      <th>annais</th>\n",
       "      <th>sexe_txt</th>\n",
       "      <th></th>\n",
       "    </tr>\n",
       "  </thead>\n",
       "  <tbody>\n",
       "    <tr>\n",
       "      <td rowspan=\"2\" valign=\"top\">1900.0</td>\n",
       "      <td>femme</td>\n",
       "      <td>57.214461</td>\n",
       "    </tr>\n",
       "    <tr>\n",
       "      <td>homme</td>\n",
       "      <td>42.785539</td>\n",
       "    </tr>\n",
       "    <tr>\n",
       "      <td rowspan=\"2\" valign=\"top\">1901.0</td>\n",
       "      <td>femme</td>\n",
       "      <td>56.753264</td>\n",
       "    </tr>\n",
       "    <tr>\n",
       "      <td>homme</td>\n",
       "      <td>43.246736</td>\n",
       "    </tr>\n",
       "    <tr>\n",
       "      <td>1902.0</td>\n",
       "      <td>femme</td>\n",
       "      <td>56.054257</td>\n",
       "    </tr>\n",
       "    <tr>\n",
       "      <td>...</td>\n",
       "      <td>...</td>\n",
       "      <td>...</td>\n",
       "    </tr>\n",
       "    <tr>\n",
       "      <td>2016.0</td>\n",
       "      <td>homme</td>\n",
       "      <td>52.697790</td>\n",
       "    </tr>\n",
       "    <tr>\n",
       "      <td rowspan=\"2\" valign=\"top\">2017.0</td>\n",
       "      <td>femme</td>\n",
       "      <td>47.361669</td>\n",
       "    </tr>\n",
       "    <tr>\n",
       "      <td>homme</td>\n",
       "      <td>52.638331</td>\n",
       "    </tr>\n",
       "    <tr>\n",
       "      <td rowspan=\"2\" valign=\"top\">2018.0</td>\n",
       "      <td>femme</td>\n",
       "      <td>47.271377</td>\n",
       "    </tr>\n",
       "    <tr>\n",
       "      <td>homme</td>\n",
       "      <td>52.728623</td>\n",
       "    </tr>\n",
       "  </tbody>\n",
       "</table>\n",
       "<p>238 rows × 1 columns</p>\n",
       "</div>"
      ],
      "text/plain": [
       "                    nombre\n",
       "annais sexe_txt           \n",
       "1900.0 femme     57.214461\n",
       "       homme     42.785539\n",
       "1901.0 femme     56.753264\n",
       "       homme     43.246736\n",
       "1902.0 femme     56.054257\n",
       "...                    ...\n",
       "2016.0 homme     52.697790\n",
       "2017.0 femme     47.361669\n",
       "       homme     52.638331\n",
       "2018.0 femme     47.271377\n",
       "       homme     52.728623\n",
       "\n",
       "[238 rows x 1 columns]"
      ]
     },
     "execution_count": 8,
     "metadata": {},
     "output_type": "execute_result"
    }
   ],
   "source": [
    "data_prop"
   ]
  },
  {
   "cell_type": "markdown",
   "metadata": {
    "heading_collapsed": true,
    "hidden": true
   },
   "source": [
    "## Présenter l'évolution des ratios hommes/femmes au cours du temps"
   ]
  },
  {
   "cell_type": "code",
   "execution_count": 130,
   "metadata": {
    "hidden": true
   },
   "outputs": [
    {
     "data": {
      "text/html": [
       "<div>\n",
       "<style scoped>\n",
       "    .dataframe tbody tr th:only-of-type {\n",
       "        vertical-align: middle;\n",
       "    }\n",
       "\n",
       "    .dataframe tbody tr th {\n",
       "        vertical-align: top;\n",
       "    }\n",
       "\n",
       "    .dataframe thead th {\n",
       "        text-align: right;\n",
       "    }\n",
       "</style>\n",
       "<table border=\"1\" class=\"dataframe\">\n",
       "  <thead>\n",
       "    <tr style=\"text-align: right;\">\n",
       "      <th>sexe_txt</th>\n",
       "      <th>femme</th>\n",
       "      <th>homme</th>\n",
       "    </tr>\n",
       "    <tr>\n",
       "      <th>annais</th>\n",
       "      <th></th>\n",
       "      <th></th>\n",
       "    </tr>\n",
       "  </thead>\n",
       "  <tbody>\n",
       "    <tr>\n",
       "      <td>1900.0</td>\n",
       "      <td>57.214461</td>\n",
       "      <td>42.785539</td>\n",
       "    </tr>\n",
       "    <tr>\n",
       "      <td>1901.0</td>\n",
       "      <td>56.753264</td>\n",
       "      <td>43.246736</td>\n",
       "    </tr>\n",
       "    <tr>\n",
       "      <td>1902.0</td>\n",
       "      <td>56.054257</td>\n",
       "      <td>43.945743</td>\n",
       "    </tr>\n",
       "    <tr>\n",
       "      <td>1903.0</td>\n",
       "      <td>55.679047</td>\n",
       "      <td>44.320953</td>\n",
       "    </tr>\n",
       "    <tr>\n",
       "      <td>1904.0</td>\n",
       "      <td>55.191002</td>\n",
       "      <td>44.808998</td>\n",
       "    </tr>\n",
       "    <tr>\n",
       "      <td>...</td>\n",
       "      <td>...</td>\n",
       "      <td>...</td>\n",
       "    </tr>\n",
       "    <tr>\n",
       "      <td>2014.0</td>\n",
       "      <td>47.331198</td>\n",
       "      <td>52.668802</td>\n",
       "    </tr>\n",
       "    <tr>\n",
       "      <td>2015.0</td>\n",
       "      <td>47.259920</td>\n",
       "      <td>52.740080</td>\n",
       "    </tr>\n",
       "    <tr>\n",
       "      <td>2016.0</td>\n",
       "      <td>47.302210</td>\n",
       "      <td>52.697790</td>\n",
       "    </tr>\n",
       "    <tr>\n",
       "      <td>2017.0</td>\n",
       "      <td>47.361669</td>\n",
       "      <td>52.638331</td>\n",
       "    </tr>\n",
       "    <tr>\n",
       "      <td>2018.0</td>\n",
       "      <td>47.271377</td>\n",
       "      <td>52.728623</td>\n",
       "    </tr>\n",
       "  </tbody>\n",
       "</table>\n",
       "<p>119 rows × 2 columns</p>\n",
       "</div>"
      ],
      "text/plain": [
       "sexe_txt      femme      homme\n",
       "annais                        \n",
       "1900.0    57.214461  42.785539\n",
       "1901.0    56.753264  43.246736\n",
       "1902.0    56.054257  43.945743\n",
       "1903.0    55.679047  44.320953\n",
       "1904.0    55.191002  44.808998\n",
       "...             ...        ...\n",
       "2014.0    47.331198  52.668802\n",
       "2015.0    47.259920  52.740080\n",
       "2016.0    47.302210  52.697790\n",
       "2017.0    47.361669  52.638331\n",
       "2018.0    47.271377  52.728623\n",
       "\n",
       "[119 rows x 2 columns]"
      ]
     },
     "execution_count": 130,
     "metadata": {},
     "output_type": "execute_result"
    }
   ],
   "source": [
    "data_prop.squeeze().unstack()"
   ]
  },
  {
   "cell_type": "code",
   "execution_count": 9,
   "metadata": {
    "hidden": true
   },
   "outputs": [
    {
     "data": {
      "text/plain": [
       "<matplotlib.axes._subplots.AxesSubplot at 0x7f6464688350>"
      ]
     },
     "execution_count": 9,
     "metadata": {},
     "output_type": "execute_result"
    }
   ],
   "source": [
    "data_prop.plot()"
   ]
  },
  {
   "cell_type": "code",
   "execution_count": 121,
   "metadata": {
    "hidden": true
   },
   "outputs": [
    {
     "data": {
      "text/plain": [
       "<matplotlib.axes._subplots.AxesSubplot at 0x7f645e754790>"
      ]
     },
     "execution_count": 121,
     "metadata": {},
     "output_type": "execute_result"
    }
   ],
   "source": [
    "data_prop.squeeze().unstack().plot(kind='bar')"
   ]
  },
  {
   "cell_type": "code",
   "execution_count": 11,
   "metadata": {
    "hidden": true
   },
   "outputs": [
    {
     "name": "stdout",
     "output_type": "stream",
     "text": [
      "Using matplotlib backend: Qt5Agg\n"
     ]
    }
   ],
   "source": [
    "%matplotlib\n",
    "import matplotlib.pyplot as plt\n",
    "import numpy as np\n",
    "\n",
    "ax = data_prop.unstack().plot(kind='bar')\n",
    "xticks = ax.xaxis.get_major_ticks()\n",
    "ax.set_xlabel('Année')\n",
    "\n",
    "for i,tick in enumerate(xticks):\n",
    "        if i%10 != 0:\n",
    "            tick.label1.set_visible(False)\n",
    "xticks[-1].label1.set_visible(True)\n",
    "plt.show()"
   ]
  },
  {
   "cell_type": "markdown",
   "metadata": {
    "hidden": true
   },
   "source": [
    "## Présenter l'évolution des ratios hommes/femmes au cours du temps tous les 10 ans"
   ]
  },
  {
   "cell_type": "markdown",
   "metadata": {
    "heading_collapsed": true,
    "hidden": true
   },
   "source": [
    "### avec une boucle (très longue)"
   ]
  },
  {
   "cell_type": "code",
   "execution_count": 38,
   "metadata": {
    "hidden": true
   },
   "outputs": [],
   "source": [
    "# VERY LONG\n",
    "\n",
    "d={}\n",
    "step = 10\n",
    "decades = range(1900,2020,step)\n",
    "for j in decades:\n",
    "    d[j]=range(j, j+step)\n",
    "\n",
    "def func(x):\n",
    "    for decade, years in d.items():\n",
    "        if x in years:\n",
    "            return decade\n",
    "data['decennie'] = data.annais.apply(func)"
   ]
  },
  {
   "cell_type": "markdown",
   "metadata": {
    "heading_collapsed": true,
    "hidden": true
   },
   "source": [
    "### avec cut de pandas"
   ]
  },
  {
   "cell_type": "code",
   "execution_count": 89,
   "metadata": {
    "hidden": true
   },
   "outputs": [],
   "source": [
    "cut_bins = list(range(1900, 2021, 10))\n",
    "cut_labels = cut_bins[:-1]"
   ]
  },
  {
   "cell_type": "code",
   "execution_count": 94,
   "metadata": {
    "hidden": true
   },
   "outputs": [],
   "source": [
    "data['decennie']=pd.cut(data.annais,\n",
    "                        bins=cut_bins,\n",
    "                        labels=cut_labels)"
   ]
  },
  {
   "cell_type": "code",
   "execution_count": 110,
   "metadata": {
    "hidden": true
   },
   "outputs": [],
   "source": [
    "data_dec = data.groupby(['decennie','sexe_txt']).sum()['nombre']"
   ]
  },
  {
   "cell_type": "code",
   "execution_count": 114,
   "metadata": {
    "hidden": true
   },
   "outputs": [
    {
     "data": {
      "text/plain": [
       "<matplotlib.axes._subplots.AxesSubplot at 0x7f645ed70510>"
      ]
     },
     "execution_count": 114,
     "metadata": {},
     "output_type": "execute_result"
    }
   ],
   "source": [
    "data_dec.unstack().plot(kind='bar', stacked=True, width=0.9)"
   ]
  },
  {
   "cell_type": "markdown",
   "metadata": {},
   "source": [
    "# Reproduire les résultats du Figaro"
   ]
  },
  {
   "cell_type": "markdown",
   "metadata": {},
   "source": [
    "## En 1900, combien de prénom et proportion de Marie"
   ]
  },
  {
   "cell_type": "code",
   "execution_count": 61,
   "metadata": {},
   "outputs": [],
   "source": [
    "import pandas as pd\n",
    "data = pd.read_csv(\"dpt2018.csv\",\n",
    "                          sep=\";\",\n",
    "                          na_values=['XXXX', 'XX'],\n",
    "                          #nrows=20\n",
    "                          )\n",
    "data['sexe_txt'] = data.sexe.replace({1:'homme', 2:'femme'})"
   ]
  },
  {
   "cell_type": "code",
   "execution_count": 77,
   "metadata": {},
   "outputs": [
    {
     "name": "stdout",
     "output_type": "stream",
     "text": [
      "En 1900, il y a 998 qui ont été recensés hors prénom unique\n",
      "En considérant les prénoms rares, 1159 qui ont été recensés.\n"
     ]
    }
   ],
   "source": [
    "nbr_prenom = len(data[data['annais']==1900].preusuel.unique())\n",
    "print(f'En 1900, il y a {nbr_prenom} qui ont été recensés hors prénom unique')\n",
    "\n",
    "prenom_rare = data[(data.annais==1900)].preusuel.value_counts()['_PRENOMS_RARES']\n",
    "print(f'En considérant les prénoms rares, {nbr_prenom + prenom_rare} qui ont été recensés.')"
   ]
  },
  {
   "cell_type": "code",
   "execution_count": 5,
   "metadata": {},
   "outputs": [
    {
     "name": "stdout",
     "output_type": "stream",
     "text": [
      "En 1900, il y a 169 qui ont été nommées\n",
      "Soit 17 % de Marie.\n"
     ]
    }
   ],
   "source": [
    "#proportion de Marie\n",
    "nbr_marie = len(data[(data.annais==1900) & (data.preusuel=='MARIE')])\n",
    "ratio = 100*nbr_marie/nbr_prenom\n",
    "print(f'En 1900, il y a {nbr_marie} qui ont été nommées')\n",
    "print(f\"Soit {ratio:.0f} % de Marie.\")"
   ]
  },
  {
   "cell_type": "code",
   "execution_count": 6,
   "metadata": {},
   "outputs": [
    {
     "data": {
      "text/plain": [
       "169"
      ]
     },
     "execution_count": 6,
     "metadata": {},
     "output_type": "execute_result"
    }
   ],
   "source": [
    "# plus performant pour calculer le nombre de Marie de 30x.\n",
    "data[(data.annais==1900)].preusuel.value_counts()['MARIE']"
   ]
  },
  {
   "cell_type": "code",
   "execution_count": 74,
   "metadata": {},
   "outputs": [
    {
     "data": {
      "text/plain": [
       "['_PRENOMS_RARES']"
      ]
     },
     "execution_count": 74,
     "metadata": {},
     "output_type": "execute_result"
    }
   ],
   "source": [
    "[i for i in data.preusuel.dropna().unique() if 'PRENOM' in i]"
   ]
  },
  {
   "cell_type": "markdown",
   "metadata": {},
   "source": [
    "## En 2017 ? Nombre de prénoms ?"
   ]
  },
  {
   "cell_type": "code",
   "execution_count": 7,
   "metadata": {},
   "outputs": [
    {
     "name": "stdout",
     "output_type": "stream",
     "text": [
      "En 2017, il y a 4399 de prénoms donnés.\n"
     ]
    }
   ],
   "source": [
    "nbr_pren_2017 = data[(data.annais==2017)].preusuel.value_counts().size\n",
    "print(f'En 2017, il y a {nbr_pren_2017} de prénoms donnés.')"
   ]
  },
  {
   "cell_type": "markdown",
   "metadata": {
    "heading_collapsed": true
   },
   "source": [
    "## Evolution de Marie dans le temps ? Et pic des prénoms ?"
   ]
  },
  {
   "cell_type": "code",
   "execution_count": 8,
   "metadata": {
    "hidden": true
   },
   "outputs": [],
   "source": [
    "marie_by_year = data[(data.preusuel=='MARIE')].loc[:, ['annais', 'preusuel', 'nombre']]\n",
    "marie_by_year = marie_by_year.groupby('annais').sum()"
   ]
  },
  {
   "cell_type": "code",
   "execution_count": 29,
   "metadata": {
    "hidden": true
   },
   "outputs": [
    {
     "name": "stdout",
     "output_type": "stream",
     "text": [
      "Using matplotlib backend: Qt5Agg\n"
     ]
    },
    {
     "data": {
      "text/plain": [
       "<matplotlib.legend.Legend at 0x7f04ff251110>"
      ]
     },
     "execution_count": 29,
     "metadata": {},
     "output_type": "execute_result"
    }
   ],
   "source": [
    "%matplotlib\n",
    "ax = marie_by_year.plot()\n",
    "ax.set_xlabel('Années')\n",
    "ax.legend(['Nombre de Marie'])"
   ]
  },
  {
   "cell_type": "code",
   "execution_count": 26,
   "metadata": {
    "hidden": true
   },
   "outputs": [
    {
     "data": {
      "text/plain": [
       "nombre    1901.0\n",
       "dtype: float64"
      ]
     },
     "execution_count": 26,
     "metadata": {},
     "output_type": "execute_result"
    }
   ],
   "source": [
    "marie_by_year.idxmax()"
   ]
  },
  {
   "cell_type": "markdown",
   "metadata": {
    "heading_collapsed": true
   },
   "source": [
    "## Evolution des prénoms composés avec Marie dedans ?"
   ]
  },
  {
   "cell_type": "code",
   "execution_count": 213,
   "metadata": {
    "hidden": true
   },
   "outputs": [
    {
     "data": {
      "text/html": [
       "<div>\n",
       "<style scoped>\n",
       "    .dataframe tbody tr th:only-of-type {\n",
       "        vertical-align: middle;\n",
       "    }\n",
       "\n",
       "    .dataframe tbody tr th {\n",
       "        vertical-align: top;\n",
       "    }\n",
       "\n",
       "    .dataframe thead th {\n",
       "        text-align: right;\n",
       "    }\n",
       "</style>\n",
       "<table border=\"1\" class=\"dataframe\">\n",
       "  <thead>\n",
       "    <tr style=\"text-align: right;\">\n",
       "      <th></th>\n",
       "      <th>sexe</th>\n",
       "      <th>preusuel</th>\n",
       "      <th>annais</th>\n",
       "      <th>dpt</th>\n",
       "      <th>nombre</th>\n",
       "      <th>sexe_txt</th>\n",
       "    </tr>\n",
       "  </thead>\n",
       "  <tbody>\n",
       "    <tr>\n",
       "      <td>109075</td>\n",
       "      <td>1</td>\n",
       "      <td>ANDRÉ-MARIE</td>\n",
       "      <td>1949.0</td>\n",
       "      <td>59.0</td>\n",
       "      <td>3</td>\n",
       "      <td>homme</td>\n",
       "    </tr>\n",
       "    <tr>\n",
       "      <td>109076</td>\n",
       "      <td>1</td>\n",
       "      <td>ANDRÉ-MARIE</td>\n",
       "      <td>1950.0</td>\n",
       "      <td>59.0</td>\n",
       "      <td>3</td>\n",
       "      <td>homme</td>\n",
       "    </tr>\n",
       "    <tr>\n",
       "      <td>109077</td>\n",
       "      <td>1</td>\n",
       "      <td>ANDRÉ-MARIE</td>\n",
       "      <td>1954.0</td>\n",
       "      <td>59.0</td>\n",
       "      <td>5</td>\n",
       "      <td>homme</td>\n",
       "    </tr>\n",
       "    <tr>\n",
       "      <td>109078</td>\n",
       "      <td>1</td>\n",
       "      <td>ANDRÉ-MARIE</td>\n",
       "      <td>1955.0</td>\n",
       "      <td>62.0</td>\n",
       "      <td>4</td>\n",
       "      <td>homme</td>\n",
       "    </tr>\n",
       "    <tr>\n",
       "      <td>109079</td>\n",
       "      <td>1</td>\n",
       "      <td>ANDRÉ-MARIE</td>\n",
       "      <td>1969.0</td>\n",
       "      <td>59.0</td>\n",
       "      <td>3</td>\n",
       "      <td>homme</td>\n",
       "    </tr>\n",
       "    <tr>\n",
       "      <td>...</td>\n",
       "      <td>...</td>\n",
       "      <td>...</td>\n",
       "      <td>...</td>\n",
       "      <td>...</td>\n",
       "      <td>...</td>\n",
       "      <td>...</td>\n",
       "    </tr>\n",
       "    <tr>\n",
       "      <td>3528619</td>\n",
       "      <td>2</td>\n",
       "      <td>THÉRÈSE-MARIE</td>\n",
       "      <td>1966.0</td>\n",
       "      <td>62.0</td>\n",
       "      <td>5</td>\n",
       "      <td>femme</td>\n",
       "    </tr>\n",
       "    <tr>\n",
       "      <td>3528620</td>\n",
       "      <td>2</td>\n",
       "      <td>THÉRÈSE-MARIE</td>\n",
       "      <td>1967.0</td>\n",
       "      <td>62.0</td>\n",
       "      <td>3</td>\n",
       "      <td>femme</td>\n",
       "    </tr>\n",
       "    <tr>\n",
       "      <td>3528621</td>\n",
       "      <td>2</td>\n",
       "      <td>THÉRÈSE-MARIE</td>\n",
       "      <td>1968.0</td>\n",
       "      <td>62.0</td>\n",
       "      <td>3</td>\n",
       "      <td>femme</td>\n",
       "    </tr>\n",
       "    <tr>\n",
       "      <td>3528622</td>\n",
       "      <td>2</td>\n",
       "      <td>THÉRÈSE-MARIE</td>\n",
       "      <td>1969.0</td>\n",
       "      <td>59.0</td>\n",
       "      <td>3</td>\n",
       "      <td>femme</td>\n",
       "    </tr>\n",
       "    <tr>\n",
       "      <td>3572967</td>\n",
       "      <td>2</td>\n",
       "      <td>VÉRONIQUE-MARIE</td>\n",
       "      <td>1959.0</td>\n",
       "      <td>59.0</td>\n",
       "      <td>3</td>\n",
       "      <td>femme</td>\n",
       "    </tr>\n",
       "  </tbody>\n",
       "</table>\n",
       "<p>74388 rows × 6 columns</p>\n",
       "</div>"
      ],
      "text/plain": [
       "         sexe         preusuel  annais   dpt  nombre sexe_txt\n",
       "109075      1      ANDRÉ-MARIE  1949.0  59.0       3    homme\n",
       "109076      1      ANDRÉ-MARIE  1950.0  59.0       3    homme\n",
       "109077      1      ANDRÉ-MARIE  1954.0  59.0       5    homme\n",
       "109078      1      ANDRÉ-MARIE  1955.0  62.0       4    homme\n",
       "109079      1      ANDRÉ-MARIE  1969.0  59.0       3    homme\n",
       "...       ...              ...     ...   ...     ...      ...\n",
       "3528619     2    THÉRÈSE-MARIE  1966.0  62.0       5    femme\n",
       "3528620     2    THÉRÈSE-MARIE  1967.0  62.0       3    femme\n",
       "3528621     2    THÉRÈSE-MARIE  1968.0  62.0       3    femme\n",
       "3528622     2    THÉRÈSE-MARIE  1969.0  59.0       3    femme\n",
       "3572967     2  VÉRONIQUE-MARIE  1959.0  59.0       3    femme\n",
       "\n",
       "[74388 rows x 6 columns]"
      ]
     },
     "execution_count": 213,
     "metadata": {},
     "output_type": "execute_result"
    }
   ],
   "source": [
    "mask = data.preusuel.str.contains('MARIE-|-MARIE', na=False)\n",
    "data.loc[mask].dropna()"
   ]
  },
  {
   "cell_type": "code",
   "execution_count": 214,
   "metadata": {
    "hidden": true
   },
   "outputs": [],
   "source": [
    "pren_comp = data.loc[mask]"
   ]
  },
  {
   "cell_type": "code",
   "execution_count": 215,
   "metadata": {
    "hidden": true
   },
   "outputs": [],
   "source": [
    "nbr_pren_comp = pren_comp.groupby('annais').nombre.sum()"
   ]
  },
  {
   "cell_type": "code",
   "execution_count": 216,
   "metadata": {
    "hidden": true
   },
   "outputs": [
    {
     "data": {
      "text/plain": [
       "<matplotlib.axes._subplots.AxesSubplot at 0x7f049593d110>"
      ]
     },
     "execution_count": 216,
     "metadata": {},
     "output_type": "execute_result"
    }
   ],
   "source": [
    "nbr_pren_comp.plot(title=\"Evolution de prénoms composés -Marie-\")"
   ]
  },
  {
   "cell_type": "code",
   "execution_count": 124,
   "metadata": {
    "hidden": true
   },
   "outputs": [
    {
     "name": "stdout",
     "output_type": "stream",
     "text": [
      "L'année où a lieu le pic de prénoms composés avec Marie est l'année : 1949\n"
     ]
    }
   ],
   "source": [
    "print(f\"L'année où a lieu le pic de prénoms composés avec Marie est l'année : {nbr_pren_comp.idxmax():.0f}\")"
   ]
  },
  {
   "cell_type": "code",
   "execution_count": null,
   "metadata": {
    "hidden": true
   },
   "outputs": [],
   "source": [
    "# data.groupby(['annais','preusuel']).nombre.sum()"
   ]
  },
  {
   "cell_type": "markdown",
   "metadata": {
    "heading_collapsed": true
   },
   "source": [
    "## Pic de prénoms recensées"
   ]
  },
  {
   "cell_type": "code",
   "execution_count": 136,
   "metadata": {
    "hidden": true
   },
   "outputs": [
    {
     "data": {
      "text/plain": [
       "<matplotlib.axes._subplots.AxesSubplot at 0x7f049593d110>"
      ]
     },
     "execution_count": 136,
     "metadata": {},
     "output_type": "execute_result"
    }
   ],
   "source": [
    "a = data.loc[:, ['annais', 'nombre', 'preusuel']].groupby(['annais','preusuel']).sum()\n",
    "a.groupby(level=0).sum().plot()"
   ]
  },
  {
   "cell_type": "markdown",
   "metadata": {
    "heading_collapsed": true
   },
   "source": [
    "## Nombre de prénoms qui représentent 50% de bébés"
   ]
  },
  {
   "cell_type": "code",
   "execution_count": 173,
   "metadata": {
    "hidden": true
   },
   "outputs": [],
   "source": [
    "nbr_prenom_by_year = data.groupby(['annais', 'preusuel']).nombre.sum()"
   ]
  },
  {
   "cell_type": "code",
   "execution_count": 212,
   "metadata": {
    "hidden": true
   },
   "outputs": [
    {
     "data": {
      "text/plain": [
       "count      998.000000\n",
       "mean       394.220441\n",
       "std       1937.431523\n",
       "min          3.000000\n",
       "25%          6.000000\n",
       "50%         17.000000\n",
       "75%        113.750000\n",
       "max      49752.000000\n",
       "Name: nombre, dtype: float64"
      ]
     },
     "execution_count": 212,
     "metadata": {},
     "output_type": "execute_result"
    }
   ],
   "source": [
    "nbr_prenom_by_year.loc[1900].describe()"
   ]
  },
  {
   "cell_type": "code",
   "execution_count": 206,
   "metadata": {
    "hidden": true
   },
   "outputs": [
    {
     "data": {
      "text/plain": [
       "annais\n",
       "1900.0     2934\n",
       "1901.0     3091\n",
       "1902.0     3055\n",
       "1903.0     3024\n",
       "1904.0     3221\n",
       "          ...  \n",
       "2014.0    51682\n",
       "2015.0    51482\n",
       "2016.0    52111\n",
       "2017.0    53190\n",
       "2018.0    53978\n",
       "Name: nombre, Length: 119, dtype: int64"
      ]
     },
     "execution_count": 206,
     "metadata": {},
     "output_type": "execute_result"
    }
   ],
   "source": [
    "nbr_prenom_by_year.loc[(slice(None), '_PRENOMS_RARES')]"
   ]
  },
  {
   "cell_type": "code",
   "execution_count": 210,
   "metadata": {
    "hidden": true
   },
   "outputs": [
    {
     "data": {
      "text/plain": [
       "count      997.000000\n",
       "mean       391.673019\n",
       "std       1936.730942\n",
       "min          3.000000\n",
       "25%          6.000000\n",
       "50%         17.000000\n",
       "75%        113.000000\n",
       "max      49752.000000\n",
       "Name: nombre, dtype: float64"
      ]
     },
     "execution_count": 210,
     "metadata": {},
     "output_type": "execute_result"
    }
   ],
   "source": [
    "nbr_prenom_by_year.drop(level=1, labels=\"_PRENOMS_RARES\").loc[1900].describe()"
   ]
  },
  {
   "cell_type": "code",
   "execution_count": 234,
   "metadata": {
    "hidden": true
   },
   "outputs": [
    {
     "data": {
      "text/html": [
       "<div>\n",
       "<style scoped>\n",
       "    .dataframe tbody tr th:only-of-type {\n",
       "        vertical-align: middle;\n",
       "    }\n",
       "\n",
       "    .dataframe tbody tr th {\n",
       "        vertical-align: top;\n",
       "    }\n",
       "\n",
       "    .dataframe thead th {\n",
       "        text-align: right;\n",
       "    }\n",
       "</style>\n",
       "<table border=\"1\" class=\"dataframe\">\n",
       "  <thead>\n",
       "    <tr style=\"text-align: right;\">\n",
       "      <th></th>\n",
       "      <th></th>\n",
       "      <th>nombre</th>\n",
       "    </tr>\n",
       "    <tr>\n",
       "      <th>annais</th>\n",
       "      <th>preusuel</th>\n",
       "      <th></th>\n",
       "    </tr>\n",
       "  </thead>\n",
       "  <tbody>\n",
       "    <tr>\n",
       "      <td rowspan=\"5\" valign=\"top\">1900.0</td>\n",
       "      <td>ABEL</td>\n",
       "      <td>382</td>\n",
       "    </tr>\n",
       "    <tr>\n",
       "      <td>ABRAHAM</td>\n",
       "      <td>9</td>\n",
       "    </tr>\n",
       "    <tr>\n",
       "      <td>ACHILLE</td>\n",
       "      <td>152</td>\n",
       "    </tr>\n",
       "    <tr>\n",
       "      <td>ACHILLES</td>\n",
       "      <td>4</td>\n",
       "    </tr>\n",
       "    <tr>\n",
       "      <td>ADAM</td>\n",
       "      <td>9</td>\n",
       "    </tr>\n",
       "    <tr>\n",
       "      <td>...</td>\n",
       "      <td>...</td>\n",
       "      <td>...</td>\n",
       "    </tr>\n",
       "    <tr>\n",
       "      <td rowspan=\"5\" valign=\"top\">2018.0</td>\n",
       "      <td>ÉZIO</td>\n",
       "      <td>4</td>\n",
       "    </tr>\n",
       "    <tr>\n",
       "      <td>ÉZÉCHIEL</td>\n",
       "      <td>9</td>\n",
       "    </tr>\n",
       "    <tr>\n",
       "      <td>ÉZÉKIEL</td>\n",
       "      <td>6</td>\n",
       "    </tr>\n",
       "    <tr>\n",
       "      <td>ÎMRAN</td>\n",
       "      <td>3</td>\n",
       "    </tr>\n",
       "    <tr>\n",
       "      <td>ÖMER</td>\n",
       "      <td>32</td>\n",
       "    </tr>\n",
       "  </tbody>\n",
       "</table>\n",
       "<p>240554 rows × 1 columns</p>\n",
       "</div>"
      ],
      "text/plain": [
       "                 nombre\n",
       "annais preusuel        \n",
       "1900.0 ABEL         382\n",
       "       ABRAHAM        9\n",
       "       ACHILLE      152\n",
       "       ACHILLES       4\n",
       "       ADAM           9\n",
       "...                 ...\n",
       "2018.0 ÉZIO           4\n",
       "       ÉZÉCHIEL       9\n",
       "       ÉZÉKIEL        6\n",
       "       ÎMRAN          3\n",
       "       ÖMER          32\n",
       "\n",
       "[240554 rows x 1 columns]"
      ]
     },
     "execution_count": 234,
     "metadata": {},
     "output_type": "execute_result"
    }
   ],
   "source": [
    "nbr_prenom_by_year.to_frame().sort_values('nombre', ascending=True).sort_index(level=0)"
   ]
  },
  {
   "cell_type": "code",
   "execution_count": 235,
   "metadata": {
    "hidden": true
   },
   "outputs": [],
   "source": [
    "nbr_prenom_by_year = nbr_prenom_by_year.copy()"
   ]
  },
  {
   "cell_type": "code",
   "execution_count": 292,
   "metadata": {
    "hidden": true
   },
   "outputs": [
    {
     "data": {
      "text/plain": [
       "annais  preusuel  \n",
       "1900.0  MARIE         49752\n",
       "        JEAN          14100\n",
       "        JEANNE        13981\n",
       "        LOUIS          9051\n",
       "        MARGUERITE     8058\n",
       "                      ...  \n",
       "2018.0  AFNANE            3\n",
       "        AGATA             3\n",
       "        AELA              3\n",
       "        ADRIÀN            3\n",
       "        AERYN             3\n",
       "Name: nombre, Length: 240554, dtype: int64"
      ]
     },
     "execution_count": 292,
     "metadata": {},
     "output_type": "execute_result"
    }
   ],
   "source": [
    "nbr_prenom_by_year"
   ]
  },
  {
   "cell_type": "code",
   "execution_count": 259,
   "metadata": {
    "hidden": true
   },
   "outputs": [],
   "source": [
    "nbr_prenom_by_year.sort_values(ascending=False, inplace=True)\n",
    "nbr_prenom_by_year.sort_index(level=0, sort_remaining=False, inplace=True)"
   ]
  },
  {
   "cell_type": "code",
   "execution_count": 270,
   "metadata": {
    "hidden": true
   },
   "outputs": [],
   "source": [
    "cumPrenomByYear = nbr_prenom_by_year.groupby(level=0)"
   ]
  },
  {
   "cell_type": "code",
   "execution_count": 300,
   "metadata": {
    "hidden": true
   },
   "outputs": [
    {
     "name": "stdout",
     "output_type": "stream",
     "text": [
      "13.3 ms ± 181 µs per loop (mean ± std. dev. of 7 runs, 100 loops each)\n"
     ]
    }
   ],
   "source": [
    "%timeit dist_prenom_by_year = (cumPrenomByYear.cumsum()/cumPrenomByYear.sum())<=0.50"
   ]
  },
  {
   "cell_type": "code",
   "execution_count": 298,
   "metadata": {
    "hidden": true
   },
   "outputs": [
    {
     "data": {
      "text/plain": [
       "annais\n",
       "1900.0     23.0\n",
       "1901.0     24.0\n",
       "1902.0     24.0\n",
       "1903.0     24.0\n",
       "1904.0     24.0\n",
       "          ...  \n",
       "2014.0    103.0\n",
       "2015.0    104.0\n",
       "2016.0    104.0\n",
       "2017.0    107.0\n",
       "2018.0    106.0\n",
       "Name: nombre, Length: 119, dtype: float64"
      ]
     },
     "execution_count": 298,
     "metadata": {},
     "output_type": "execute_result"
    }
   ],
   "source": [
    "dist_prenom_by_year.groupby(level=0).sum()"
   ]
  },
  {
   "cell_type": "code",
   "execution_count": 301,
   "metadata": {
    "hidden": true
   },
   "outputs": [
    {
     "data": {
      "text/plain": [
       "<matplotlib.axes._subplots.AxesSubplot at 0x7f048093f3d0>"
      ]
     },
     "execution_count": 301,
     "metadata": {},
     "output_type": "execute_result"
    }
   ],
   "source": [
    "dist_prenom_by_year.groupby(level=0).sum().plot(title=\"Nombre de prénom minimal pour représenter 50% des bébés\")"
   ]
  },
  {
   "cell_type": "markdown",
   "metadata": {
    "heading_collapsed": true
   },
   "source": [
    "## La part des 10 prénoms les plus utilisés"
   ]
  },
  {
   "cell_type": "code",
   "execution_count": 320,
   "metadata": {
    "hidden": true
   },
   "outputs": [],
   "source": [
    "#drop _PRENOMS_RARES\n",
    "prenom_by_year_wout_rare = nbr_prenom_by_year.drop(level=1, labels='_PRENOMS_RARES')"
   ]
  },
  {
   "cell_type": "code",
   "execution_count": 394,
   "metadata": {
    "hidden": true
   },
   "outputs": [
    {
     "data": {
      "text/plain": [
       "annais  preusuel\n",
       "1946.0  JEAN        53718\n",
       "1901.0  MARIE       53176\n",
       "Name: nombre, dtype: int64"
      ]
     },
     "execution_count": 394,
     "metadata": {},
     "output_type": "execute_result"
    }
   ],
   "source": [
    "prenom_by_year_wout_rare.nlargest(2)"
   ]
  },
  {
   "cell_type": "code",
   "execution_count": 391,
   "metadata": {
    "hidden": true
   },
   "outputs": [],
   "source": [
    "cumPrenomByYear = prenom_by_year_wout_rare.groupby('annais')"
   ]
  },
  {
   "cell_type": "code",
   "execution_count": 332,
   "metadata": {
    "hidden": true
   },
   "outputs": [],
   "source": [
    "most_used = cumPrenomByYear.nlargest(10).droplevel(0)"
   ]
  },
  {
   "cell_type": "code",
   "execution_count": 333,
   "metadata": {
    "hidden": true
   },
   "outputs": [],
   "source": [
    "share_most_used = most_used.groupby(level=0).sum()"
   ]
  },
  {
   "cell_type": "code",
   "execution_count": 340,
   "metadata": {
    "hidden": true
   },
   "outputs": [
    {
     "data": {
      "text/plain": [
       "annais\n",
       "1900.0    130257\n",
       "1901.0    141938\n",
       "1902.0    145194\n",
       "1903.0    143645\n",
       "1904.0    144889\n",
       "           ...  \n",
       "2014.0     48145\n",
       "2015.0     46981\n",
       "2016.0     46186\n",
       "2017.0     43361\n",
       "2018.0     42587\n",
       "Name: nombre, Length: 119, dtype: int64"
      ]
     },
     "execution_count": 340,
     "metadata": {},
     "output_type": "execute_result"
    }
   ],
   "source": [
    "share_most_used"
   ]
  },
  {
   "cell_type": "code",
   "execution_count": 334,
   "metadata": {
    "hidden": true
   },
   "outputs": [
    {
     "data": {
      "text/plain": [
       "3.058609434804048"
      ]
     },
     "execution_count": 334,
     "metadata": {},
     "output_type": "execute_result"
    }
   ],
   "source": [
    "share_most_used[1900]/share_most_used[2018]"
   ]
  },
  {
   "cell_type": "code",
   "execution_count": 339,
   "metadata": {
    "hidden": true
   },
   "outputs": [
    {
     "data": {
      "text/plain": [
       "<matplotlib.axes._subplots.AxesSubplot at 0x7f04809e50d0>"
      ]
     },
     "execution_count": 339,
     "metadata": {},
     "output_type": "execute_result"
    }
   ],
   "source": [
    "share_most_used.plot(title='Nombre de bébé qui ont un des 10 prenoms les plus donnés')"
   ]
  },
  {
   "cell_type": "markdown",
   "metadata": {},
   "source": [
    "## Le prénom Loïc et sa diffusion"
   ]
  },
  {
   "cell_type": "markdown",
   "metadata": {
    "heading_collapsed": true
   },
   "source": [
    "### avec graphique et chiffre"
   ]
  },
  {
   "cell_type": "code",
   "execution_count": 365,
   "metadata": {
    "hidden": true
   },
   "outputs": [],
   "source": [
    "# comptabiliser par département et par an le nombre de prénom Loïc\n",
    "nbr_loic = data[data.preusuel=='LOÏC'].groupby(['dpt', 'annais']).nombre.sum()"
   ]
  },
  {
   "cell_type": "code",
   "execution_count": 366,
   "metadata": {
    "hidden": true
   },
   "outputs": [],
   "source": [
    "bretagne = [29,22,35,56]"
   ]
  },
  {
   "cell_type": "code",
   "execution_count": 407,
   "metadata": {
    "hidden": true
   },
   "outputs": [],
   "source": [
    "nbr_loic_in_bret_by_year = nbr_loic.loc[bretagne].groupby('annais').sum()"
   ]
  },
  {
   "cell_type": "code",
   "execution_count": 381,
   "metadata": {
    "hidden": true
   },
   "outputs": [],
   "source": [
    "nbr_loic_elsewhere_by_year = nbr_loic.drop(bretagne).groupby('annais').sum()"
   ]
  },
  {
   "cell_type": "code",
   "execution_count": 408,
   "metadata": {
    "hidden": true
   },
   "outputs": [
    {
     "data": {
      "text/plain": [
       "<matplotlib.axes._subplots.AxesSubplot at 0x7f047f94f790>"
      ]
     },
     "execution_count": 408,
     "metadata": {},
     "output_type": "execute_result"
    }
   ],
   "source": [
    "nbr_loic_in_bret_by_year.plot()\n",
    "nbr_loic_elsewhere_by_year.plot()"
   ]
  },
  {
   "cell_type": "markdown",
   "metadata": {
    "heading_collapsed": true
   },
   "source": [
    "### avec Folium"
   ]
  },
  {
   "cell_type": "code",
   "execution_count": 16,
   "metadata": {
    "hidden": true
   },
   "outputs": [],
   "source": [
    "import folium\n",
    "import numpy as np\n",
    "from ipywidgets import interact\n",
    "from folium.plugins import HeatMap\n",
    "from matplotlib import pyplot as plt"
   ]
  },
  {
   "cell_type": "code",
   "execution_count": 6,
   "metadata": {
    "hidden": true
   },
   "outputs": [],
   "source": [
    "# import data\n",
    "import pandas as pd\n",
    "data = pd.read_csv(\"dpt2018.csv\",\n",
    "                   sep=\";\",\n",
    "                   na_values=['XXXX', 'XX'])\n",
    "\n",
    "# select only LOIC by year and by departement\n",
    "nbr_prenom = data[data.preusuel=='CAROLINE']\n",
    "nbr_prenom = nbr_prenom.drop('sexe', axis=1)"
   ]
  },
  {
   "cell_type": "code",
   "execution_count": 7,
   "metadata": {
    "hidden": true
   },
   "outputs": [],
   "source": [
    "# import departement\n",
    "import pickle\n",
    "departement = pickle.load(open(\"dico_adress.pkl\",\"rb\"))\n",
    "france_gps = [46.227638 ,2.213749]"
   ]
  },
  {
   "cell_type": "code",
   "execution_count": 8,
   "metadata": {
    "hidden": true
   },
   "outputs": [],
   "source": [
    "# create a new column COORDS with the coordonates and the number (wieght) of babies \n",
    "nbr_prenom['COORDS'] = nbr_prenom.dpt.dropna().apply(lambda x: np.append(departement[x], x))"
   ]
  },
  {
   "cell_type": "code",
   "execution_count": 9,
   "metadata": {
    "hidden": true
   },
   "outputs": [
    {
     "data": {
      "text/plain": [
       "array([array([43.7 ,  7.25,  6.  ]),\n",
       "       array([42.966667,  1.6     ,  9.      ]),\n",
       "       array([43.3,  5.4, 13. ]), ..., array([48.9,  2.2, 92. ]),\n",
       "       array([49.033333,  2.066667, 95.      ]), nan], dtype=object)"
      ]
     },
     "execution_count": 9,
     "metadata": {},
     "output_type": "execute_result"
    }
   ],
   "source": [
    "# to verify the type\n",
    "# WARNING, there is nan type !!! Clean it with myDataFrame.dropna()\n",
    "nbr_prenom.COORDS.values"
   ]
  },
  {
   "cell_type": "code",
   "execution_count": 10,
   "metadata": {
    "hidden": true
   },
   "outputs": [
    {
     "data": {
      "text/html": [
       "<div>\n",
       "<style scoped>\n",
       "    .dataframe tbody tr th:only-of-type {\n",
       "        vertical-align: middle;\n",
       "    }\n",
       "\n",
       "    .dataframe tbody tr th {\n",
       "        vertical-align: top;\n",
       "    }\n",
       "\n",
       "    .dataframe thead th {\n",
       "        text-align: right;\n",
       "    }\n",
       "</style>\n",
       "<table border=\"1\" class=\"dataframe\">\n",
       "  <thead>\n",
       "    <tr style=\"text-align: right;\">\n",
       "      <th></th>\n",
       "      <th>preusuel</th>\n",
       "      <th>annais</th>\n",
       "      <th>dpt</th>\n",
       "      <th>nombre</th>\n",
       "      <th>COORDS</th>\n",
       "    </tr>\n",
       "  </thead>\n",
       "  <tbody>\n",
       "    <tr>\n",
       "      <td>1995837</td>\n",
       "      <td>CAROLINE</td>\n",
       "      <td>1900.0</td>\n",
       "      <td>6.0</td>\n",
       "      <td>15</td>\n",
       "      <td>[43.7, 7.25, 6.0]</td>\n",
       "    </tr>\n",
       "    <tr>\n",
       "      <td>1995838</td>\n",
       "      <td>CAROLINE</td>\n",
       "      <td>1900.0</td>\n",
       "      <td>9.0</td>\n",
       "      <td>3</td>\n",
       "      <td>[42.966667, 1.6, 9.0]</td>\n",
       "    </tr>\n",
       "    <tr>\n",
       "      <td>1995839</td>\n",
       "      <td>CAROLINE</td>\n",
       "      <td>1900.0</td>\n",
       "      <td>13.0</td>\n",
       "      <td>6</td>\n",
       "      <td>[43.3, 5.4, 13.0]</td>\n",
       "    </tr>\n",
       "    <tr>\n",
       "      <td>1995840</td>\n",
       "      <td>CAROLINE</td>\n",
       "      <td>1900.0</td>\n",
       "      <td>20.0</td>\n",
       "      <td>8</td>\n",
       "      <td>[42.3083335, 9.091666499999999, 20.0]</td>\n",
       "    </tr>\n",
       "    <tr>\n",
       "      <td>1995841</td>\n",
       "      <td>CAROLINE</td>\n",
       "      <td>1900.0</td>\n",
       "      <td>22.0</td>\n",
       "      <td>9</td>\n",
       "      <td>[48.516667, -2.783333, 22.0]</td>\n",
       "    </tr>\n",
       "    <tr>\n",
       "      <td>...</td>\n",
       "      <td>...</td>\n",
       "      <td>...</td>\n",
       "      <td>...</td>\n",
       "      <td>...</td>\n",
       "      <td>...</td>\n",
       "    </tr>\n",
       "    <tr>\n",
       "      <td>2001029</td>\n",
       "      <td>CAROLINE</td>\n",
       "      <td>2018.0</td>\n",
       "      <td>75.0</td>\n",
       "      <td>9</td>\n",
       "      <td>[48.866667, 2.333333, 75.0]</td>\n",
       "    </tr>\n",
       "    <tr>\n",
       "      <td>2001030</td>\n",
       "      <td>CAROLINE</td>\n",
       "      <td>2018.0</td>\n",
       "      <td>77.0</td>\n",
       "      <td>3</td>\n",
       "      <td>[48.533333, 2.666667, 77.0]</td>\n",
       "    </tr>\n",
       "    <tr>\n",
       "      <td>2001031</td>\n",
       "      <td>CAROLINE</td>\n",
       "      <td>2018.0</td>\n",
       "      <td>92.0</td>\n",
       "      <td>3</td>\n",
       "      <td>[48.9, 2.2, 92.0]</td>\n",
       "    </tr>\n",
       "    <tr>\n",
       "      <td>2001032</td>\n",
       "      <td>CAROLINE</td>\n",
       "      <td>2018.0</td>\n",
       "      <td>95.0</td>\n",
       "      <td>6</td>\n",
       "      <td>[49.033333, 2.066667, 95.0]</td>\n",
       "    </tr>\n",
       "    <tr>\n",
       "      <td>2001033</td>\n",
       "      <td>CAROLINE</td>\n",
       "      <td>NaN</td>\n",
       "      <td>NaN</td>\n",
       "      <td>2824</td>\n",
       "      <td>NaN</td>\n",
       "    </tr>\n",
       "  </tbody>\n",
       "</table>\n",
       "<p>5197 rows × 5 columns</p>\n",
       "</div>"
      ],
      "text/plain": [
       "         preusuel  annais   dpt  nombre                                 COORDS\n",
       "1995837  CAROLINE  1900.0   6.0      15                      [43.7, 7.25, 6.0]\n",
       "1995838  CAROLINE  1900.0   9.0       3                  [42.966667, 1.6, 9.0]\n",
       "1995839  CAROLINE  1900.0  13.0       6                      [43.3, 5.4, 13.0]\n",
       "1995840  CAROLINE  1900.0  20.0       8  [42.3083335, 9.091666499999999, 20.0]\n",
       "1995841  CAROLINE  1900.0  22.0       9           [48.516667, -2.783333, 22.0]\n",
       "...           ...     ...   ...     ...                                    ...\n",
       "2001029  CAROLINE  2018.0  75.0       9            [48.866667, 2.333333, 75.0]\n",
       "2001030  CAROLINE  2018.0  77.0       3            [48.533333, 2.666667, 77.0]\n",
       "2001031  CAROLINE  2018.0  92.0       3                      [48.9, 2.2, 92.0]\n",
       "2001032  CAROLINE  2018.0  95.0       6            [49.033333, 2.066667, 95.0]\n",
       "2001033  CAROLINE     NaN   NaN    2824                                    NaN\n",
       "\n",
       "[5197 rows x 5 columns]"
      ]
     },
     "execution_count": 10,
     "metadata": {},
     "output_type": "execute_result"
    }
   ],
   "source": [
    "nbr_prenom"
   ]
  },
  {
   "cell_type": "code",
   "execution_count": 11,
   "metadata": {
    "hidden": true
   },
   "outputs": [
    {
     "data": {
      "text/html": [
       "<div>\n",
       "<style scoped>\n",
       "    .dataframe tbody tr th:only-of-type {\n",
       "        vertical-align: middle;\n",
       "    }\n",
       "\n",
       "    .dataframe tbody tr th {\n",
       "        vertical-align: top;\n",
       "    }\n",
       "\n",
       "    .dataframe thead th {\n",
       "        text-align: right;\n",
       "    }\n",
       "</style>\n",
       "<table border=\"1\" class=\"dataframe\">\n",
       "  <thead>\n",
       "    <tr style=\"text-align: right;\">\n",
       "      <th></th>\n",
       "      <th>preusuel</th>\n",
       "      <th>annais</th>\n",
       "      <th>dpt</th>\n",
       "      <th>nombre</th>\n",
       "      <th>COORDS</th>\n",
       "    </tr>\n",
       "    <tr>\n",
       "      <th>annais</th>\n",
       "      <th></th>\n",
       "      <th></th>\n",
       "      <th></th>\n",
       "      <th></th>\n",
       "      <th></th>\n",
       "    </tr>\n",
       "  </thead>\n",
       "  <tbody>\n",
       "    <tr>\n",
       "      <td>1900.0</td>\n",
       "      <td>CAROLINE</td>\n",
       "      <td>1900.0</td>\n",
       "      <td>6.0</td>\n",
       "      <td>15</td>\n",
       "      <td>[43.7, 7.25, 6.0]</td>\n",
       "    </tr>\n",
       "    <tr>\n",
       "      <td>1900.0</td>\n",
       "      <td>CAROLINE</td>\n",
       "      <td>1900.0</td>\n",
       "      <td>9.0</td>\n",
       "      <td>3</td>\n",
       "      <td>[42.966667, 1.6, 9.0]</td>\n",
       "    </tr>\n",
       "    <tr>\n",
       "      <td>1900.0</td>\n",
       "      <td>CAROLINE</td>\n",
       "      <td>1900.0</td>\n",
       "      <td>13.0</td>\n",
       "      <td>6</td>\n",
       "      <td>[43.3, 5.4, 13.0]</td>\n",
       "    </tr>\n",
       "    <tr>\n",
       "      <td>1900.0</td>\n",
       "      <td>CAROLINE</td>\n",
       "      <td>1900.0</td>\n",
       "      <td>20.0</td>\n",
       "      <td>8</td>\n",
       "      <td>[42.3083335, 9.091666499999999, 20.0]</td>\n",
       "    </tr>\n",
       "    <tr>\n",
       "      <td>1900.0</td>\n",
       "      <td>CAROLINE</td>\n",
       "      <td>1900.0</td>\n",
       "      <td>22.0</td>\n",
       "      <td>9</td>\n",
       "      <td>[48.516667, -2.783333, 22.0]</td>\n",
       "    </tr>\n",
       "    <tr>\n",
       "      <td>...</td>\n",
       "      <td>...</td>\n",
       "      <td>...</td>\n",
       "      <td>...</td>\n",
       "      <td>...</td>\n",
       "      <td>...</td>\n",
       "    </tr>\n",
       "    <tr>\n",
       "      <td>2018.0</td>\n",
       "      <td>CAROLINE</td>\n",
       "      <td>2018.0</td>\n",
       "      <td>75.0</td>\n",
       "      <td>9</td>\n",
       "      <td>[48.866667, 2.333333, 75.0]</td>\n",
       "    </tr>\n",
       "    <tr>\n",
       "      <td>2018.0</td>\n",
       "      <td>CAROLINE</td>\n",
       "      <td>2018.0</td>\n",
       "      <td>77.0</td>\n",
       "      <td>3</td>\n",
       "      <td>[48.533333, 2.666667, 77.0]</td>\n",
       "    </tr>\n",
       "    <tr>\n",
       "      <td>2018.0</td>\n",
       "      <td>CAROLINE</td>\n",
       "      <td>2018.0</td>\n",
       "      <td>92.0</td>\n",
       "      <td>3</td>\n",
       "      <td>[48.9, 2.2, 92.0]</td>\n",
       "    </tr>\n",
       "    <tr>\n",
       "      <td>2018.0</td>\n",
       "      <td>CAROLINE</td>\n",
       "      <td>2018.0</td>\n",
       "      <td>95.0</td>\n",
       "      <td>6</td>\n",
       "      <td>[49.033333, 2.066667, 95.0]</td>\n",
       "    </tr>\n",
       "    <tr>\n",
       "      <td>NaN</td>\n",
       "      <td>CAROLINE</td>\n",
       "      <td>NaN</td>\n",
       "      <td>NaN</td>\n",
       "      <td>2824</td>\n",
       "      <td>NaN</td>\n",
       "    </tr>\n",
       "  </tbody>\n",
       "</table>\n",
       "<p>5197 rows × 5 columns</p>\n",
       "</div>"
      ],
      "text/plain": [
       "        preusuel  annais   dpt  nombre                                 COORDS\n",
       "annais                                                                       \n",
       "1900.0  CAROLINE  1900.0   6.0      15                      [43.7, 7.25, 6.0]\n",
       "1900.0  CAROLINE  1900.0   9.0       3                  [42.966667, 1.6, 9.0]\n",
       "1900.0  CAROLINE  1900.0  13.0       6                      [43.3, 5.4, 13.0]\n",
       "1900.0  CAROLINE  1900.0  20.0       8  [42.3083335, 9.091666499999999, 20.0]\n",
       "1900.0  CAROLINE  1900.0  22.0       9           [48.516667, -2.783333, 22.0]\n",
       "...          ...     ...   ...     ...                                    ...\n",
       "2018.0  CAROLINE  2018.0  75.0       9            [48.866667, 2.333333, 75.0]\n",
       "2018.0  CAROLINE  2018.0  77.0       3            [48.533333, 2.666667, 77.0]\n",
       "2018.0  CAROLINE  2018.0  92.0       3                      [48.9, 2.2, 92.0]\n",
       "2018.0  CAROLINE  2018.0  95.0       6            [49.033333, 2.066667, 95.0]\n",
       "NaN     CAROLINE     NaN   NaN    2824                                    NaN\n",
       "\n",
       "[5197 rows x 5 columns]"
      ]
     },
     "execution_count": 11,
     "metadata": {},
     "output_type": "execute_result"
    }
   ],
   "source": [
    "# to put the year in index, avoid to myDataFrame.loc[myDataFrame.annais==19xx]\n",
    "idx = nbr_prenom.annais\n",
    "nbr_prenom.set_index('annais', drop=False)"
   ]
  },
  {
   "cell_type": "code",
   "execution_count": 17,
   "metadata": {
    "hidden": true
   },
   "outputs": [],
   "source": [
    "def loic_par_departement(i):\n",
    "    \n",
    "    nbr_prenom.annais.hist(figsize=(5, 3), bins=50)\n",
    "    plt.axvline(i, c='k', ls='--')\n",
    "    plt.xlabel(\"Annee\")\n",
    "    plt.ylabel('Nombre de prénom Caroline')\n",
    "    plt.show()\n",
    "    \n",
    "    \n",
    "    carte = folium.Map(france_gps, zoom_start=5)\n",
    "    HeatMap(nbr_prenom.loc[nbr_prenom.annais==i].dropna().COORDS.values,\n",
    "    radius=25, #weight=2,\n",
    "    max_val=1.2).add_to(carte)\n",
    "    return carte"
   ]
  },
  {
   "cell_type": "code",
   "execution_count": 18,
   "metadata": {
    "hidden": true
   },
   "outputs": [
    {
     "data": {
      "application/vnd.jupyter.widget-view+json": {
       "model_id": "3b94556c42a5448c86924eef8463510b",
       "version_major": 2,
       "version_minor": 0
      },
      "text/plain": [
       "interactive(children=(Dropdown(description='i', options=(1900, 1901, 1902, 1903, 1904, 1905, 1906, 1907, 1908,…"
      ]
     },
     "metadata": {},
     "output_type": "display_data"
    }
   ],
   "source": [
    "interact(loic_par_departement, i=range(1900, 2019));"
   ]
  },
  {
   "cell_type": "code",
   "execution_count": 12,
   "metadata": {
    "hidden": true
   },
   "outputs": [],
   "source": [
    "carte = folium.Map(france_gps, zoom_start=5)"
   ]
  },
  {
   "cell_type": "code",
   "execution_count": 13,
   "metadata": {
    "hidden": true
   },
   "outputs": [
    {
     "data": {
      "text/html": [
       "<div style=\"width:100%;\"><div style=\"position:relative;width:100%;height:0;padding-bottom:60%;\"><iframe src=\"data:text/html;charset=utf-8;base64,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\" style=\"position:absolute;width:100%;height:100%;left:0;top:0;border:none !important;\" allowfullscreen webkitallowfullscreen mozallowfullscreen></iframe></div></div>"
      ],
      "text/plain": [
       "<folium.folium.Map at 0x7f08364ae810>"
      ]
     },
     "execution_count": 13,
     "metadata": {},
     "output_type": "execute_result"
    }
   ],
   "source": [
    "carte"
   ]
  },
  {
   "cell_type": "code",
   "execution_count": 24,
   "metadata": {
    "hidden": true
   },
   "outputs": [
    {
     "data": {
      "text/plain": [
       "<folium.plugins.heat_map.HeatMap at 0x7f0836490f50>"
      ]
     },
     "execution_count": 24,
     "metadata": {},
     "output_type": "execute_result"
    }
   ],
   "source": [
    "HeatMap(nbr_loic.loc[nbr_loic.annais==2000].dropna().COORDS.values,\n",
    "        radius=10,\n",
    "#         weight=2,\n",
    "        max_val=1.2).add_to(carte)"
   ]
  },
  {
   "cell_type": "code",
   "execution_count": 25,
   "metadata": {
    "hidden": true
   },
   "outputs": [
    {
     "data": {
      "text/html": [
       "<div style=\"width:100%;\"><div style=\"position:relative;width:100%;height:0;padding-bottom:60%;\"><iframe src=\"data:text/html;charset=utf-8;base64,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\" style=\"position:absolute;width:100%;height:100%;left:0;top:0;border:none !important;\" allowfullscreen webkitallowfullscreen mozallowfullscreen></iframe></div></div>"
      ],
      "text/plain": [
       "<folium.folium.Map at 0x7f08364ae810>"
      ]
     },
     "execution_count": 25,
     "metadata": {},
     "output_type": "execute_result"
    }
   ],
   "source": [
    "carte"
   ]
  },
  {
   "cell_type": "code",
   "execution_count": 151,
   "metadata": {
    "hidden": true
   },
   "outputs": [
    {
     "ename": "TypeError",
     "evalue": "list expected at most 1 arguments, got 4744",
     "output_type": "error",
     "traceback": [
      "\u001b[0;31m---------------------------------------------------------------------------\u001b[0m",
      "\u001b[0;31mTypeError\u001b[0m                                 Traceback (most recent call last)",
      "\u001b[0;32m<ipython-input-151-8d457e4009c6>\u001b[0m in \u001b[0;36m<module>\u001b[0;34m\u001b[0m\n\u001b[0;32m----> 1\u001b[0;31m \u001b[0mlist\u001b[0m\u001b[0;34m(\u001b[0m\u001b[0;34m*\u001b[0m\u001b[0mnp\u001b[0m\u001b[0;34m.\u001b[0m\u001b[0marray\u001b[0m\u001b[0;34m(\u001b[0m\u001b[0mnbr_loic\u001b[0m\u001b[0;34m.\u001b[0m\u001b[0mCOORDS\u001b[0m\u001b[0;34m.\u001b[0m\u001b[0mvalues\u001b[0m\u001b[0;34m)\u001b[0m\u001b[0;34m)\u001b[0m\u001b[0;34m\u001b[0m\u001b[0;34m\u001b[0m\u001b[0m\n\u001b[0m",
      "\u001b[0;31mTypeError\u001b[0m: list expected at most 1 arguments, got 4744"
     ]
    }
   ],
   "source": [
    "list()"
   ]
  },
  {
   "cell_type": "code",
   "execution_count": 173,
   "metadata": {
    "hidden": true
   },
   "outputs": [
    {
     "data": {
      "text/plain": [
       "array([array([47.216667, -1.55    , 44.      ]),\n",
       "       array([47.216667, -1.55    , 44.      ]),\n",
       "       array([48.516667, -2.783333, 22.      ]), ...,\n",
       "       array([48.783333,  2.466667, 94.      ]),\n",
       "       array([49.033333,  2.066667, 95.      ]),\n",
       "       array([  0.,   0., 973.])], dtype=object)"
      ]
     },
     "execution_count": 173,
     "metadata": {},
     "output_type": "execute_result"
    }
   ],
   "source": [
    "nbr_loic.dropna().COORDS.values"
   ]
  },
  {
   "cell_type": "code",
   "execution_count": 165,
   "metadata": {
    "hidden": true
   },
   "outputs": [
    {
     "data": {
      "text/plain": [
       "[array([47.216667, -1.55    , 44.      ]),\n",
       " array([47.216667, -1.55    , 44.      ]),\n",
       " array([48.516667, -2.783333, 22.      ]),\n",
       " array([48.083333, -1.683333, 35.      ]),\n",
       " array([48.516667, -2.783333, 22.      ]),\n",
       " array([48.083333, -1.683333, 35.      ]),\n",
       " array([47.216667, -1.55    , 44.      ]),\n",
       " array([47.466667, -0.55    , 49.      ]),\n",
       " array([46.666667, -1.433333, 85.      ]),\n",
       " array([48.516667, -2.783333, 22.      ]),\n",
       " array([47.216667, -1.55    , 44.      ]),\n",
       " array([47.216667, -1.55    , 44.      ]),\n",
       " array([48.516667, -2.783333, 22.      ]),\n",
       " array([48.083333, -1.683333, 35.      ]),\n",
       " array([47.216667, -1.55    , 44.      ]),\n",
       " array([47.666667, -2.75    , 56.      ]),\n",
       " array([48.516667, -2.783333, 22.      ]),\n",
       " array([48. , -4.1, 29. ]),\n",
       " array([48.083333, -1.683333, 35.      ]),\n",
       " array([47.216667, -1.55    , 44.      ]),\n",
       " array([48.516667, -2.783333, 22.      ]),\n",
       " array([48.083333, -1.683333, 35.      ]),\n",
       " array([47.216667, -1.55    , 44.      ]),\n",
       " array([48.516667, -2.783333, 22.      ]),\n",
       " array([48.083333, -1.683333, 35.      ]),\n",
       " array([47.216667, -1.55    , 44.      ]),\n",
       " array([47.666667, -2.75    , 56.      ]),\n",
       " array([48.516667, -2.783333, 22.      ]),\n",
       " array([48.083333, -1.683333, 35.      ]),\n",
       " array([47.216667, -1.55    , 44.      ]),\n",
       " array([47.466667, -0.55    , 49.      ]),\n",
       " array([47.666667, -2.75    , 56.      ]),\n",
       " array([48.516667, -2.783333, 22.      ]),\n",
       " array([48.083333, -1.683333, 35.      ]),\n",
       " array([47.216667, -1.55    , 44.      ]),\n",
       " array([47.466667, -0.55    , 49.      ]),\n",
       " array([47.666667, -2.75    , 56.      ]),\n",
       " array([49.183333, -0.35    , 14.      ]),\n",
       " array([48.516667, -2.783333, 22.      ]),\n",
       " array([48. , -4.1, 29. ]),\n",
       " array([48.083333, -1.683333, 35.      ]),\n",
       " array([47.216667, -1.55    , 44.      ]),\n",
       " array([47.466667, -0.55    , 49.      ]),\n",
       " array([47.666667, -2.75    , 56.      ]),\n",
       " array([48.866667,  2.333333, 75.      ]),\n",
       " array([48.516667, -2.783333, 22.      ]),\n",
       " array([48. , -4.1, 29. ]),\n",
       " array([48.083333, -1.683333, 35.      ]),\n",
       " array([47.216667, -1.55    , 44.      ]),\n",
       " array([47.466667, -0.55    , 49.      ]),\n",
       " array([47.666667, -2.75    , 56.      ]),\n",
       " array([48.516667, -2.783333, 22.      ]),\n",
       " array([48. , -4.1, 29. ]),\n",
       " array([48.083333, -1.683333, 35.      ]),\n",
       " array([47.216667, -1.55    , 44.      ]),\n",
       " array([47.466667, -0.55    , 49.      ]),\n",
       " array([47.666667, -2.75    , 56.      ]),\n",
       " array([45.75,  4.85, 69.  ]),\n",
       " array([48. ,  0.2, 72. ]),\n",
       " array([48.866667,  2.333333, 75.      ]),\n",
       " array([46.666667, -1.433333, 85.      ]),\n",
       " array([48.516667, -2.783333, 22.      ]),\n",
       " array([48. , -4.1, 29. ]),\n",
       " array([48.083333, -1.683333, 35.      ]),\n",
       " array([47.216667, -1.55    , 44.      ]),\n",
       " array([47.666667, -2.75    , 56.      ]),\n",
       " array([48.866667,  2.333333, 75.      ]),\n",
       " array([48.516667, -2.783333, 22.      ]),\n",
       " array([48. , -4.1, 29. ]),\n",
       " array([44.833333, -0.566667, 33.      ]),\n",
       " array([48.083333, -1.683333, 35.      ]),\n",
       " array([47.216667, -1.55    , 44.      ]),\n",
       " array([47.466667, -0.55    , 49.      ]),\n",
       " array([49.116667, -1.083333, 50.      ]),\n",
       " array([48.066667, -0.766667, 53.      ]),\n",
       " array([47.666667, -2.75    , 56.      ]),\n",
       " array([48.866667,  2.333333, 75.      ]),\n",
       " array([46.666667, -1.433333, 85.      ]),\n",
       " array([48.516667, -2.783333, 22.      ]),\n",
       " array([48. , -4.1, 29. ]),\n",
       " array([48.083333, -1.683333, 35.      ]),\n",
       " array([47.216667, -1.55    , 44.      ]),\n",
       " array([47.466667, -0.55    , 49.      ]),\n",
       " array([49.116667, -1.083333, 50.      ]),\n",
       " array([48.066667, -0.766667, 53.      ]),\n",
       " array([47.666667, -2.75    , 56.      ]),\n",
       " array([48.866667,  2.333333, 75.      ]),\n",
       " array([46.666667, -1.433333, 85.      ]),\n",
       " array([48.516667, -2.783333, 22.      ]),\n",
       " array([48. , -4.1, 29. ]),\n",
       " array([44.833333, -0.566667, 33.      ]),\n",
       " array([48.083333, -1.683333, 35.      ]),\n",
       " array([47.216667, -1.55    , 44.      ]),\n",
       " array([47.466667, -0.55    , 49.      ]),\n",
       " array([49.116667, -1.083333, 50.      ]),\n",
       " array([48.066667, -0.766667, 53.      ]),\n",
       " array([47.666667, -2.75    , 56.      ]),\n",
       " array([50.633333,  3.066667, 59.      ]),\n",
       " array([45.75,  4.85, 69.  ]),\n",
       " array([48.866667,  2.333333, 75.      ]),\n",
       " array([49.433333,  1.083333, 76.      ]),\n",
       " array([46.666667, -1.433333, 85.      ]),\n",
       " array([46.166667, -1.15    , 17.      ]),\n",
       " array([48.516667, -2.783333, 22.      ]),\n",
       " array([48. , -4.1, 29. ]),\n",
       " array([44.833333, -0.566667, 33.      ]),\n",
       " array([48.083333, -1.683333, 35.      ]),\n",
       " array([47.216667, -1.55    , 44.      ]),\n",
       " array([47.466667, -0.55    , 49.      ]),\n",
       " array([48.066667, -0.766667, 53.      ]),\n",
       " array([47.666667, -2.75    , 56.      ]),\n",
       " array([48.866667,  2.333333, 75.      ]),\n",
       " array([49.433333,  1.083333, 76.      ]),\n",
       " array([48.8     ,  2.133333, 78.      ]),\n",
       " array([46.666667, -1.433333, 85.      ]),\n",
       " array([49.183333, -0.35    , 14.      ]),\n",
       " array([48.516667, -2.783333, 22.      ]),\n",
       " array([48. , -4.1, 29. ]),\n",
       " array([44.833333, -0.566667, 33.      ]),\n",
       " array([48.083333, -1.683333, 35.      ]),\n",
       " array([47.216667, -1.55    , 44.      ]),\n",
       " array([47.466667, -0.55    , 49.      ]),\n",
       " array([49.116667, -1.083333, 50.      ]),\n",
       " array([48.958333,  4.366667, 51.      ]),\n",
       " array([48.066667, -0.766667, 53.      ]),\n",
       " array([47.666667, -2.75    , 56.      ]),\n",
       " array([50.283333,  2.783333, 62.      ]),\n",
       " array([45.75,  4.85, 69.  ]),\n",
       " array([48. ,  0.2, 72. ]),\n",
       " array([48.866667,  2.333333, 75.      ]),\n",
       " array([49.433333,  1.083333, 76.      ]),\n",
       " array([48.8     ,  2.133333, 78.      ]),\n",
       " array([46.666667, -1.433333, 85.      ]),\n",
       " array([49.183333, -0.35    , 14.      ]),\n",
       " array([48.516667, -2.783333, 22.      ]),\n",
       " array([48. , -4.1, 29. ]),\n",
       " array([44.833333, -0.566667, 33.      ]),\n",
       " array([48.083333, -1.683333, 35.      ]),\n",
       " array([47.216667, -1.55    , 44.      ]),\n",
       " array([47.466667, -0.55    , 49.      ]),\n",
       " array([48.066667, -0.766667, 53.      ]),\n",
       " array([47.666667, -2.75    , 56.      ]),\n",
       " array([45.75,  4.85, 69.  ]),\n",
       " array([48. ,  0.2, 72. ]),\n",
       " array([48.866667,  2.333333, 75.      ]),\n",
       " array([49.433333,  1.083333, 76.      ]),\n",
       " array([48.8     ,  2.133333, 78.      ]),\n",
       " array([46.666667, -1.433333, 85.      ]),\n",
       " array([47.316667,  5.016667, 21.      ]),\n",
       " array([48.516667, -2.783333, 22.      ]),\n",
       " array([48.45,  1.5 , 28.  ]),\n",
       " array([48. , -4.1, 29. ]),\n",
       " array([44.833333, -0.566667, 33.      ]),\n",
       " array([48.083333, -1.683333, 35.      ]),\n",
       " array([47.383333,  0.683333, 37.      ]),\n",
       " array([47.216667, -1.55    , 44.      ]),\n",
       " array([47.466667, -0.55    , 49.      ]),\n",
       " array([49.116667, -1.083333, 50.      ]),\n",
       " array([48.066667, -0.766667, 53.      ]),\n",
       " array([47.666667, -2.75    , 56.      ]),\n",
       " array([50.633333,  3.066667, 59.      ]),\n",
       " array([48.433333,  0.083333, 61.      ]),\n",
       " array([45.75,  4.85, 69.  ]),\n",
       " array([48. ,  0.2, 72. ]),\n",
       " array([48.866667,  2.333333, 75.      ]),\n",
       " array([49.433333,  1.083333, 76.      ]),\n",
       " array([48.8     ,  2.133333, 78.      ]),\n",
       " array([46.666667, -1.433333, 85.      ]),\n",
       " array([49.183333, -0.35    , 14.      ]),\n",
       " array([45.65,  0.15, 16.  ]),\n",
       " array([48.516667, -2.783333, 22.      ]),\n",
       " array([49.016667,  1.15    , 27.      ]),\n",
       " array([48. , -4.1, 29. ]),\n",
       " array([44.833333, -0.566667, 33.      ]),\n",
       " array([48.083333, -1.683333, 35.      ]),\n",
       " array([45.166667,  5.716667, 38.      ]),\n",
       " array([47.583333,  1.333333, 41.      ]),\n",
       " array([47.216667, -1.55    , 44.      ]),\n",
       " array([47.466667, -0.55    , 49.      ]),\n",
       " array([49.116667, -1.083333, 50.      ]),\n",
       " array([48.958333,  4.366667, 51.      ]),\n",
       " array([48.066667, -0.766667, 53.      ]),\n",
       " array([47.666667, -2.75    , 56.      ]),\n",
       " array([45.75,  4.85, 69.  ]),\n",
       " array([48. ,  0.2, 72. ]),\n",
       " array([48.866667,  2.333333, 75.      ]),\n",
       " array([49.433333,  1.083333, 76.      ]),\n",
       " array([48.8     ,  2.133333, 78.      ]),\n",
       " array([49.9,  2.3, 80. ]),\n",
       " array([46.666667, -1.433333, 85.      ]),\n",
       " array([49.183333, -0.35    , 14.      ]),\n",
       " array([45.65,  0.15, 16.  ]),\n",
       " array([48.516667, -2.783333, 22.      ]),\n",
       " array([48. , -4.1, 29. ]),\n",
       " array([44.833333, -0.566667, 33.      ]),\n",
       " array([48.083333, -1.683333, 35.      ]),\n",
       " array([47.383333,  0.683333, 37.      ]),\n",
       " array([47.216667, -1.55    , 44.      ]),\n",
       " array([47.466667, -0.55    , 49.      ]),\n",
       " array([49.116667, -1.083333, 50.      ]),\n",
       " array([48.066667, -0.766667, 53.      ]),\n",
       " array([47.666667, -2.75    , 56.      ]),\n",
       " array([50.633333,  3.066667, 59.      ]),\n",
       " array([49.433333,  2.083333, 60.      ]),\n",
       " array([50.283333,  2.783333, 62.      ]),\n",
       " array([48. ,  0.2, 72. ]),\n",
       " array([48.866667,  2.333333, 75.      ]),\n",
       " array([49.433333,  1.083333, 76.      ]),\n",
       " array([48.8     ,  2.133333, 78.      ]),\n",
       " array([43.95    ,  4.816667, 84.      ]),\n",
       " array([46.666667, -1.433333, 85.      ]),\n",
       " array([49.183333, -0.35    , 14.      ]),\n",
       " array([45.65,  0.15, 16.  ]),\n",
       " array([46.166667, -1.15    , 17.      ]),\n",
       " array([48.516667, -2.783333, 22.      ]),\n",
       " array([48. , -4.1, 29. ]),\n",
       " array([44.833333, -0.566667, 33.      ]),\n",
       " array([48.083333, -1.683333, 35.      ]),\n",
       " array([47.383333,  0.683333, 37.      ]),\n",
       " array([45.166667,  5.716667, 38.      ]),\n",
       " array([47.216667, -1.55    , 44.      ]),\n",
       " array([47.466667, -0.55    , 49.      ]),\n",
       " array([49.116667, -1.083333, 50.      ]),\n",
       " array([48.066667, -0.766667, 53.      ]),\n",
       " array([48.683333,  6.2     , 54.      ]),\n",
       " array([47.666667, -2.75    , 56.      ]),\n",
       " array([50.633333,  3.066667, 59.      ]),\n",
       " array([49.433333,  2.083333, 60.      ]),\n",
       " array([45.75,  4.85, 69.  ]),\n",
       " array([48. ,  0.2, 72. ]),\n",
       " array([48.866667,  2.333333, 75.      ]),\n",
       " array([49.433333,  1.083333, 76.      ]),\n",
       " array([48.8     ,  2.133333, 78.      ]),\n",
       " array([46.316667, -0.466667, 79.      ]),\n",
       " array([49.9,  2.3, 80. ]),\n",
       " array([43.116667,  5.933333, 83.      ]),\n",
       " array([46.666667, -1.433333, 85.      ]),\n",
       " array([49.183333, -0.35    , 14.      ]),\n",
       " array([45.65,  0.15, 16.  ]),\n",
       " array([46.166667, -1.15    , 17.      ]),\n",
       " array([48.516667, -2.783333, 22.      ]),\n",
       " array([48.45,  1.5 , 28.  ]),\n",
       " array([48. , -4.1, 29. ]),\n",
       " array([44.833333, -0.566667, 33.      ]),\n",
       " array([48.083333, -1.683333, 35.      ]),\n",
       " array([47.383333,  0.683333, 37.      ]),\n",
       " array([47.216667, -1.55    , 44.      ]),\n",
       " array([47.916667,  1.9     , 45.      ]),\n",
       " array([47.466667, -0.55    , 49.      ]),\n",
       " array([49.116667, -1.083333, 50.      ]),\n",
       " array([48.958333,  4.366667, 51.      ]),\n",
       " array([48.066667, -0.766667, 53.      ]),\n",
       " array([47.666667, -2.75    , 56.      ]),\n",
       " array([50.633333,  3.066667, 59.      ]),\n",
       " array([48.433333,  0.083333, 61.      ]),\n",
       " array([48. ,  0.2, 72. ]),\n",
       " array([48.866667,  2.333333, 75.      ]),\n",
       " array([49.433333,  1.083333, 76.      ]),\n",
       " array([48.8     ,  2.133333, 78.      ]),\n",
       " array([46.316667, -0.466667, 79.      ]),\n",
       " array([43.116667,  5.933333, 83.      ]),\n",
       " array([46.666667, -1.433333, 85.      ]),\n",
       " array([49.566667,  3.616667,  2.      ]),\n",
       " array([43.3,  5.4, 13. ]),\n",
       " array([49.183333, -0.35    , 14.      ]),\n",
       " array([45.65,  0.15, 16.  ]),\n",
       " array([46.166667, -1.15    , 17.      ]),\n",
       " array([48.516667, -2.783333, 22.      ]),\n",
       " array([49.016667,  1.15    , 27.      ]),\n",
       " array([48.45,  1.5 , 28.  ]),\n",
       " array([48. , -4.1, 29. ]),\n",
       " array([44.833333, -0.566667, 33.      ]),\n",
       " array([48.083333, -1.683333, 35.      ]),\n",
       " array([47.383333,  0.683333, 37.      ]),\n",
       " array([47.216667, -1.55    , 44.      ]),\n",
       " array([47.466667, -0.55    , 49.      ]),\n",
       " array([49.116667, -1.083333, 50.      ]),\n",
       " array([48.958333,  4.366667, 51.      ]),\n",
       " array([48.066667, -0.766667, 53.      ]),\n",
       " array([47.666667, -2.75    , 56.      ]),\n",
       " array([50.633333,  3.066667, 59.      ]),\n",
       " array([49.433333,  2.083333, 60.      ]),\n",
       " array([48.433333,  0.083333, 61.      ]),\n",
       " array([50.283333,  2.783333, 62.      ]),\n",
       " array([48. ,  0.2, 72. ]),\n",
       " array([48.866667,  2.333333, 75.      ]),\n",
       " array([49.433333,  1.083333, 76.      ]),\n",
       " array([48.533333,  2.666667, 77.      ]),\n",
       " array([48.8     ,  2.133333, 78.      ]),\n",
       " array([46.316667, -0.466667, 79.      ]),\n",
       " array([49.9,  2.3, 80. ]),\n",
       " array([43.116667,  5.933333, 83.      ]),\n",
       " array([46.666667, -1.433333, 85.      ]),\n",
       " array([49.183333, -0.35    , 14.      ]),\n",
       " array([45.65,  0.15, 16.  ]),\n",
       " array([48.516667, -2.783333, 22.      ]),\n",
       " array([48.45,  1.5 , 28.  ]),\n",
       " array([48. , -4.1, 29. ]),\n",
       " array([44.833333, -0.566667, 33.      ]),\n",
       " array([48.083333, -1.683333, 35.      ]),\n",
       " array([47.383333,  0.683333, 37.      ]),\n",
       " array([47.583333,  1.333333, 41.      ]),\n",
       " array([47.216667, -1.55    , 44.      ]),\n",
       " array([47.466667, -0.55    , 49.      ]),\n",
       " array([49.116667, -1.083333, 50.      ]),\n",
       " array([48.066667, -0.766667, 53.      ]),\n",
       " array([47.666667, -2.75    , 56.      ]),\n",
       " array([50.633333,  3.066667, 59.      ]),\n",
       " array([48.433333,  0.083333, 61.      ]),\n",
       " array([43.3     , -0.366667, 64.      ]),\n",
       " array([45.75,  4.85, 69.  ]),\n",
       " array([48. ,  0.2, 72. ]),\n",
       " array([48.866667,  2.333333, 75.      ]),\n",
       " array([49.433333,  1.083333, 76.      ]),\n",
       " array([48.8     ,  2.133333, 78.      ]),\n",
       " array([46.316667, -0.466667, 79.      ]),\n",
       " array([43.116667,  5.933333, 83.      ]),\n",
       " array([46.666667, -1.433333, 85.      ]),\n",
       " array([46.583333,  0.333333, 86.      ]),\n",
       " array([  0.,   0., 971.]),\n",
       " array([  0.,   0., 972.]),\n",
       " array([49.566667,  3.616667,  2.      ]),\n",
       " array([46.566667,  3.333333,  3.      ]),\n",
       " array([43.3,  5.4, 13. ]),\n",
       " array([49.183333, -0.35    , 14.      ]),\n",
       " array([45.65,  0.15, 16.  ]),\n",
       " array([46.166667, -1.15    , 17.      ]),\n",
       " array([48.516667, -2.783333, 22.      ]),\n",
       " array([49.016667,  1.15    , 27.      ]),\n",
       " array([48.45,  1.5 , 28.  ]),\n",
       " array([48. , -4.1, 29. ]),\n",
       " array([44.833333, -0.566667, 33.      ]),\n",
       " array([48.083333, -1.683333, 35.      ]),\n",
       " array([47.383333,  0.683333, 37.      ]),\n",
       " array([43.883333, -0.5     , 40.      ]),\n",
       " array([47.583333,  1.333333, 41.      ]),\n",
       " array([47.216667, -1.55    , 44.      ]),\n",
       " array([47.916667,  1.9     , 45.      ]),\n",
       " array([47.466667, -0.55    , 49.      ]),\n",
       " array([49.116667, -1.083333, 50.      ]),\n",
       " array([48.958333,  4.366667, 51.      ]),\n",
       " array([48.116667,  5.133333, 52.      ]),\n",
       " array([48.066667, -0.766667, 53.      ]),\n",
       " array([47.666667, -2.75    , 56.      ]),\n",
       " array([49.133333,  6.166667, 57.      ]),\n",
       " array([50.633333,  3.066667, 59.      ]),\n",
       " array([49.433333,  2.083333, 60.      ]),\n",
       " array([48.433333,  0.083333, 61.      ]),\n",
       " array([45.783333,  3.083333, 63.      ]),\n",
       " array([45.75,  4.85, 69.  ]),\n",
       " array([48. ,  0.2, 72. ]),\n",
       " array([48.866667,  2.333333, 75.      ]),\n",
       " array([49.433333,  1.083333, 76.      ]),\n",
       " array([48.533333,  2.666667, 77.      ]),\n",
       " array([48.8     ,  2.133333, 78.      ]),\n",
       " array([46.316667, -0.466667, 79.      ]),\n",
       " array([49.9,  2.3, 80. ]),\n",
       " array([43.116667,  5.933333, 83.      ]),\n",
       " array([46.666667, -1.433333, 85.      ]),\n",
       " array([46.583333,  0.333333, 86.      ]),\n",
       " array([45.85,  1.25, 87.  ]),\n",
       " array([46.566667,  3.333333,  3.      ]),\n",
       " array([49.766667,  4.716667,  8.      ]),\n",
       " array([49.183333, -0.35    , 14.      ]),\n",
       " array([45.65,  0.15, 16.  ]),\n",
       " array([46.166667, -1.15    , 17.      ]),\n",
       " array([47.083333,  2.4     , 18.      ]),\n",
       " array([48.516667, -2.783333, 22.      ]),\n",
       " array([49.016667,  1.15    , 27.      ]),\n",
       " array([48.45,  1.5 , 28.  ]),\n",
       " array([48. , -4.1, 29. ]),\n",
       " array([43.6     ,  1.433333, 31.      ]),\n",
       " array([44.833333, -0.566667, 33.      ]),\n",
       " array([48.083333, -1.683333, 35.      ]),\n",
       " array([47.383333,  0.683333, 37.      ]),\n",
       " array([47.583333,  1.333333, 41.      ]),\n",
       " array([47.216667, -1.55    , 44.      ]),\n",
       " array([47.916667,  1.9     , 45.      ]),\n",
       " array([47.466667, -0.55    , 49.      ]),\n",
       " array([49.116667, -1.083333, 50.      ]),\n",
       " array([48.958333,  4.366667, 51.      ]),\n",
       " array([48.066667, -0.766667, 53.      ]),\n",
       " array([47.666667, -2.75    , 56.      ]),\n",
       " array([50.633333,  3.066667, 59.      ]),\n",
       " array([49.433333,  2.083333, 60.      ]),\n",
       " array([48.433333,  0.083333, 61.      ]),\n",
       " array([50.283333,  2.783333, 62.      ]),\n",
       " array([45.75,  4.85, 69.  ]),\n",
       " array([48. ,  0.2, 72. ]),\n",
       " array([48.866667,  2.333333, 75.      ]),\n",
       " array([49.433333,  1.083333, 76.      ]),\n",
       " array([48.533333,  2.666667, 77.      ]),\n",
       " array([48.8     ,  2.133333, 78.      ]),\n",
       " array([46.316667, -0.466667, 79.      ]),\n",
       " array([49.9,  2.3, 80. ]),\n",
       " array([43.116667,  5.933333, 83.      ]),\n",
       " array([46.666667, -1.433333, 85.      ]),\n",
       " array([46.583333,  0.333333, 86.      ]),\n",
       " array([  0.,   0., 971.]),\n",
       " array([49.566667,  3.616667,  2.      ]),\n",
       " array([49.183333, -0.35    , 14.      ]),\n",
       " array([46.166667, -1.15    , 17.      ]),\n",
       " array([47.083333,  2.4     , 18.      ]),\n",
       " array([48.516667, -2.783333, 22.      ]),\n",
       " array([49.016667,  1.15    , 27.      ]),\n",
       " array([48.45,  1.5 , 28.  ]),\n",
       " array([48. , -4.1, 29. ]),\n",
       " array([44.833333, -0.566667, 33.      ]),\n",
       " array([48.083333, -1.683333, 35.      ]),\n",
       " array([47.383333,  0.683333, 37.      ]),\n",
       " array([45.166667,  5.716667, 38.      ]),\n",
       " array([47.583333,  1.333333, 41.      ]),\n",
       " array([47.216667, -1.55    , 44.      ]),\n",
       " array([47.916667,  1.9     , 45.      ]),\n",
       " array([47.466667, -0.55    , 49.      ]),\n",
       " array([49.116667, -1.083333, 50.      ]),\n",
       " array([48.958333,  4.366667, 51.      ]),\n",
       " array([48.066667, -0.766667, 53.      ]),\n",
       " array([48.683333,  6.2     , 54.      ]),\n",
       " array([47.666667, -2.75    , 56.      ]),\n",
       " array([50.633333,  3.066667, 59.      ]),\n",
       " array([49.433333,  2.083333, 60.      ]),\n",
       " array([48.433333,  0.083333, 61.      ]),\n",
       " array([50.283333,  2.783333, 62.      ]),\n",
       " array([45.75,  4.85, 69.  ]),\n",
       " array([48. ,  0.2, 72. ]),\n",
       " array([48.866667,  2.333333, 75.      ]),\n",
       " array([49.433333,  1.083333, 76.      ]),\n",
       " array([48.8     ,  2.133333, 78.      ]),\n",
       " array([46.316667, -0.466667, 79.      ]),\n",
       " array([43.116667,  5.933333, 83.      ]),\n",
       " array([46.666667, -1.433333, 85.      ]),\n",
       " array([46.583333,  0.333333, 86.      ]),\n",
       " array([45.85,  1.25, 87.  ]),\n",
       " array([43.3,  5.4, 13. ]),\n",
       " array([49.183333, -0.35    , 14.      ]),\n",
       " array([45.65,  0.15, 16.  ]),\n",
       " array([46.166667, -1.15    , 17.      ]),\n",
       " array([47.083333,  2.4     , 18.      ]),\n",
       " array([47.316667,  5.016667, 21.      ]),\n",
       " array([48.516667, -2.783333, 22.      ]),\n",
       " array([49.016667,  1.15    , 27.      ]),\n",
       " array([48.45,  1.5 , 28.  ]),\n",
       " array([48. , -4.1, 29. ]),\n",
       " array([44.833333, -0.566667, 33.      ]),\n",
       " array([48.083333, -1.683333, 35.      ]),\n",
       " array([47.383333,  0.683333, 37.      ]),\n",
       " array([47.216667, -1.55    , 44.      ]),\n",
       " array([47.916667,  1.9     , 45.      ]),\n",
       " array([47.466667, -0.55    , 49.      ]),\n",
       " array([49.116667, -1.083333, 50.      ]),\n",
       " array([48.958333,  4.366667, 51.      ]),\n",
       " array([48.066667, -0.766667, 53.      ]),\n",
       " array([47.666667, -2.75    , 56.      ]),\n",
       " array([49.133333,  6.166667, 57.      ]),\n",
       " array([50.633333,  3.066667, 59.      ]),\n",
       " array([49.433333,  2.083333, 60.      ]),\n",
       " array([48.433333,  0.083333, 61.      ]),\n",
       " array([50.283333,  2.783333, 62.      ]),\n",
       " array([45.75,  4.85, 69.  ]),\n",
       " array([48. ,  0.2, 72. ]),\n",
       " array([45.9     ,  6.116667, 74.      ]),\n",
       " array([48.866667,  2.333333, 75.      ]),\n",
       " array([49.433333,  1.083333, 76.      ]),\n",
       " array([48.533333,  2.666667, 77.      ]),\n",
       " array([48.8     ,  2.133333, 78.      ]),\n",
       " array([46.316667, -0.466667, 79.      ]),\n",
       " array([46.666667, -1.433333, 85.      ]),\n",
       " array([43.7 ,  7.25,  6.  ]),\n",
       " array([43.3,  5.4, 13. ]),\n",
       " array([49.183333, -0.35    , 14.      ]),\n",
       " array([45.65,  0.15, 16.  ]),\n",
       " array([46.166667, -1.15    , 17.      ]),\n",
       " array([47.083333,  2.4     , 18.      ]),\n",
       " array([48.516667, -2.783333, 22.      ]),\n",
       " array([49.016667,  1.15    , 27.      ]),\n",
       " array([48. , -4.1, 29. ]),\n",
       " array([44.833333, -0.566667, 33.      ]),\n",
       " array([48.083333, -1.683333, 35.      ]),\n",
       " array([47.383333,  0.683333, 37.      ]),\n",
       " array([47.583333,  1.333333, 41.      ]),\n",
       " array([43.233333,  0.083333, 42.      ]),\n",
       " array([47.216667, -1.55    , 44.      ]),\n",
       " array([47.916667,  1.9     , 45.      ]),\n",
       " array([47.466667, -0.55    , 49.      ]),\n",
       " array([49.116667, -1.083333, 50.      ]),\n",
       " array([48.958333,  4.366667, 51.      ]),\n",
       " array([48.066667, -0.766667, 53.      ]),\n",
       " array([47.666667, -2.75    , 56.      ]),\n",
       " array([49.133333,  6.166667, 57.      ]),\n",
       " array([50.633333,  3.066667, 59.      ]),\n",
       " array([49.433333,  2.083333, 60.      ]),\n",
       " array([48.433333,  0.083333, 61.      ]),\n",
       " array([45.75,  4.85, 69.  ]),\n",
       " array([48. ,  0.2, 72. ]),\n",
       " array([48.866667,  2.333333, 75.      ]),\n",
       " array([49.433333,  1.083333, 76.      ]),\n",
       " array([48.533333,  2.666667, 77.      ]),\n",
       " array([48.8     ,  2.133333, 78.      ]),\n",
       " array([46.316667, -0.466667, 79.      ]),\n",
       " array([46.666667, -1.433333, 85.      ]),\n",
       " array([46.583333,  0.333333, 86.      ]),\n",
       " array([45.85,  1.25, 87.  ]),\n",
       " array([  0.,   0., 971.]),\n",
       " array([  0.,   0., 972.]),\n",
       " array([49.566667,  3.616667,  2.      ]),\n",
       " array([43.3,  5.4, 13. ]),\n",
       " array([49.183333, -0.35    , 14.      ]),\n",
       " array([45.65,  0.15, 16.  ]),\n",
       " array([46.166667, -1.15    , 17.      ]),\n",
       " array([47.083333,  2.4     , 18.      ]),\n",
       " array([47.316667,  5.016667, 21.      ]),\n",
       " array([48.516667, -2.783333, 22.      ]),\n",
       " array([49.016667,  1.15    , 27.      ]),\n",
       " array([48.45,  1.5 , 28.  ]),\n",
       " array([48. , -4.1, 29. ]),\n",
       " array([43.833333,  4.35    , 30.      ]),\n",
       " array([43.6     ,  1.433333, 31.      ]),\n",
       " array([44.833333, -0.566667, 33.      ]),\n",
       " array([48.083333, -1.683333, 35.      ]),\n",
       " array([47.383333,  0.683333, 37.      ]),\n",
       " array([45.166667,  5.716667, 38.      ]),\n",
       " array([47.583333,  1.333333, 41.      ]),\n",
       " array([43.233333,  0.083333, 42.      ]),\n",
       " array([47.216667, -1.55    , 44.      ]),\n",
       " array([47.916667,  1.9     , 45.      ]),\n",
       " array([47.466667, -0.55    , 49.      ]),\n",
       " array([49.116667, -1.083333, 50.      ]),\n",
       " array([48.958333,  4.366667, 51.      ]),\n",
       " array([48.066667, -0.766667, 53.      ]),\n",
       " array([47.666667, -2.75    , 56.      ]),\n",
       " array([49.133333,  6.166667, 57.      ]),\n",
       " array([46.983333,  3.166667, 58.      ]),\n",
       " array([50.633333,  3.066667, 59.      ]),\n",
       " array([49.433333,  2.083333, 60.      ]),\n",
       " array([48.433333,  0.083333, 61.      ]),\n",
       " array([45.75,  4.85, 69.  ]),\n",
       " array([48. ,  0.2, 72. ]),\n",
       " array([48.866667,  2.333333, 75.      ]),\n",
       " array([49.433333,  1.083333, 76.      ]),\n",
       " array([48.533333,  2.666667, 77.      ]),\n",
       " array([48.8     ,  2.133333, 78.      ]),\n",
       " array([46.316667, -0.466667, 79.      ]),\n",
       " array([49.9,  2.3, 80. ]),\n",
       " array([43.116667,  5.933333, 83.      ]),\n",
       " array([46.666667, -1.433333, 85.      ]),\n",
       " array([46.583333,  0.333333, 86.      ]),\n",
       " array([45.85,  1.25, 87.  ]),\n",
       " array([  0.,   0., 972.]),\n",
       " array([49.566667,  3.616667,  2.      ]),\n",
       " array([46.566667,  3.333333,  3.      ]),\n",
       " array([43.7 ,  7.25,  6.  ]),\n",
       " array([49.766667,  4.716667,  8.      ]),\n",
       " array([43.3,  5.4, 13. ]),\n",
       " array([49.183333, -0.35    , 14.      ]),\n",
       " array([46.166667, -1.15    , 17.      ]),\n",
       " array([45.266667,  1.766667, 19.      ]),\n",
       " array([47.316667,  5.016667, 21.      ]),\n",
       " array([48.516667, -2.783333, 22.      ]),\n",
       " array([49.016667,  1.15    , 27.      ]),\n",
       " array([48.45,  1.5 , 28.  ]),\n",
       " array([48. , -4.1, 29. ]),\n",
       " array([43.6     ,  1.433333, 31.      ]),\n",
       " array([44.833333, -0.566667, 33.      ]),\n",
       " array([48.083333, -1.683333, 35.      ]),\n",
       " array([47.383333,  0.683333, 37.      ]),\n",
       " array([45.166667,  5.716667, 38.      ]),\n",
       " array([47.583333,  1.333333, 41.      ]),\n",
       " array([47.216667, -1.55    , 44.      ]),\n",
       " array([47.916667,  1.9     , 45.      ]),\n",
       " array([47.466667, -0.55    , 49.      ]),\n",
       " array([49.116667, -1.083333, 50.      ]),\n",
       " array([48.066667, -0.766667, 53.      ]),\n",
       " array([48.683333,  6.2     , 54.      ]),\n",
       " array([47.666667, -2.75    , 56.      ]),\n",
       " array([50.633333,  3.066667, 59.      ]),\n",
       " array([48.433333,  0.083333, 61.      ]),\n",
       " array([50.283333,  2.783333, 62.      ]),\n",
       " array([45.75,  4.85, 69.  ]),\n",
       " array([48. ,  0.2, 72. ]),\n",
       " array([48.866667,  2.333333, 75.      ]),\n",
       " array([49.433333,  1.083333, 76.      ]),\n",
       " array([48.533333,  2.666667, 77.      ]),\n",
       " array([48.8     ,  2.133333, 78.      ]),\n",
       " array([46.316667, -0.466667, 79.      ]),\n",
       " array([49.9,  2.3, 80. ]),\n",
       " array([43.116667,  5.933333, 83.      ]),\n",
       " array([43.95    ,  4.816667, 84.      ]),\n",
       " array([46.666667, -1.433333, 85.      ]),\n",
       " array([46.583333,  0.333333, 86.      ]),\n",
       " array([45.85,  1.25, 87.  ]),\n",
       " array([49.566667,  3.616667,  2.      ]),\n",
       " array([43.3,  5.4, 13. ]),\n",
       " array([49.183333, -0.35    , 14.      ]),\n",
       " array([45.65,  0.15, 16.  ]),\n",
       " array([46.166667, -1.15    , 17.      ]),\n",
       " array([47.083333,  2.4     , 18.      ]),\n",
       " array([47.316667,  5.016667, 21.      ]),\n",
       " array([48.516667, -2.783333, 22.      ]),\n",
       " array([45.183333,  0.716667, 24.      ]),\n",
       " array([47.25    ,  6.033333, 25.      ]),\n",
       " array([48.45,  1.5 , 28.  ]),\n",
       " array([48. , -4.1, 29. ]),\n",
       " array([43.833333,  4.35    , 30.      ]),\n",
       " array([44.833333, -0.566667, 33.      ]),\n",
       " array([48.083333, -1.683333, 35.      ]),\n",
       " array([47.383333,  0.683333, 37.      ]),\n",
       " array([45.166667,  5.716667, 38.      ]),\n",
       " array([47.583333,  1.333333, 41.      ]),\n",
       " array([47.216667, -1.55    , 44.      ]),\n",
       " array([47.916667,  1.9     , 45.      ]),\n",
       " array([44.2     ,  0.633333, 47.      ]),\n",
       " array([47.466667, -0.55    , 49.      ]),\n",
       " array([49.116667, -1.083333, 50.      ]),\n",
       " array([48.958333,  4.366667, 51.      ]),\n",
       " array([48.066667, -0.766667, 53.      ]),\n",
       " array([48.683333,  6.2     , 54.      ]),\n",
       " array([47.666667, -2.75    , 56.      ]),\n",
       " array([49.133333,  6.166667, 57.      ]),\n",
       " array([50.633333,  3.066667, 59.      ]),\n",
       " array([48.433333,  0.083333, 61.      ]),\n",
       " array([50.283333,  2.783333, 62.      ]),\n",
       " array([45.783333,  3.083333, 63.      ]),\n",
       " array([48.583333,  7.75    , 67.      ]),\n",
       " array([48.083333,  7.366667, 68.      ]),\n",
       " array([45.75,  4.85, 69.  ]),\n",
       " array([48. ,  0.2, 72. ]),\n",
       " array([48.866667,  2.333333, 75.      ]),\n",
       " array([49.433333,  1.083333, 76.      ]),\n",
       " array([48.533333,  2.666667, 77.      ]),\n",
       " array([48.8     ,  2.133333, 78.      ]),\n",
       " array([46.316667, -0.466667, 79.      ]),\n",
       " array([49.9,  2.3, 80. ]),\n",
       " array([43.116667,  5.933333, 83.      ]),\n",
       " array([46.666667, -1.433333, 85.      ]),\n",
       " array([46.583333,  0.333333, 86.      ]),\n",
       " array([  0.,   0., 971.]),\n",
       " array([  0.,   0., 972.]),\n",
       " array([49.566667,  3.616667,  2.      ]),\n",
       " array([43.7 ,  7.25,  6.  ]),\n",
       " array([43.3,  5.4, 13. ]),\n",
       " array([49.183333, -0.35    , 14.      ]),\n",
       " array([45.65,  0.15, 16.  ]),\n",
       " array([46.166667, -1.15    , 17.      ]),\n",
       " array([47.083333,  2.4     , 18.      ]),\n",
       " array([48.516667, -2.783333, 22.      ]),\n",
       " array([47.25    ,  6.033333, 25.      ]),\n",
       " array([49.016667,  1.15    , 27.      ]),\n",
       " array([48.45,  1.5 , 28.  ]),\n",
       " array([48. , -4.1, 29. ]),\n",
       " array([43.833333,  4.35    , 30.      ]),\n",
       " array([44.833333, -0.566667, 33.      ]),\n",
       " array([48.083333, -1.683333, 35.      ]),\n",
       " array([47.383333,  0.683333, 37.      ]),\n",
       " array([45.166667,  5.716667, 38.      ]),\n",
       " array([46.666667,  5.55    , 39.      ]),\n",
       " array([43.883333, -0.5     , 40.      ]),\n",
       " array([47.583333,  1.333333, 41.      ]),\n",
       " array([47.216667, -1.55    , 44.      ]),\n",
       " array([47.916667,  1.9     , 45.      ]),\n",
       " array([47.466667, -0.55    , 49.      ]),\n",
       " array([49.116667, -1.083333, 50.      ]),\n",
       " array([48.958333,  4.366667, 51.      ]),\n",
       " array([48.116667,  5.133333, 52.      ]),\n",
       " array([48.066667, -0.766667, 53.      ]),\n",
       " array([48.683333,  6.2     , 54.      ]),\n",
       " array([47.666667, -2.75    , 56.      ]),\n",
       " array([49.133333,  6.166667, 57.      ]),\n",
       " array([50.633333,  3.066667, 59.      ]),\n",
       " array([49.433333,  2.083333, 60.      ]),\n",
       " array([48.433333,  0.083333, 61.      ]),\n",
       " array([50.283333,  2.783333, 62.      ]),\n",
       " array([45.783333,  3.083333, 63.      ]),\n",
       " array([42.683333,  2.883333, 66.      ]),\n",
       " array([48.583333,  7.75    , 67.      ]),\n",
       " array([48.083333,  7.366667, 68.      ]),\n",
       " array([45.75,  4.85, 69.  ]),\n",
       " array([48. ,  0.2, 72. ]),\n",
       " array([45.9     ,  6.116667, 74.      ]),\n",
       " array([48.866667,  2.333333, 75.      ]),\n",
       " array([49.433333,  1.083333, 76.      ]),\n",
       " array([48.533333,  2.666667, 77.      ]),\n",
       " array([48.8     ,  2.133333, 78.      ]),\n",
       " array([46.316667, -0.466667, 79.      ]),\n",
       " array([49.9,  2.3, 80. ]),\n",
       " array([43.116667,  5.933333, 83.      ]),\n",
       " array([46.666667, -1.433333, 85.      ]),\n",
       " array([46.583333,  0.333333, 86.      ]),\n",
       " array([45.85,  1.25, 87.  ]),\n",
       " array([  0.,   0., 971.]),\n",
       " array([49.566667,  3.616667,  2.      ]),\n",
       " array([46.566667,  3.333333,  3.      ]),\n",
       " array([43.7 ,  7.25,  6.  ]),\n",
       " array([44.733333,  4.6     ,  7.      ]),\n",
       " array([43.3,  5.4, 13. ]),\n",
       " array([49.183333, -0.35    , 14.      ]),\n",
       " array([45.65,  0.15, 16.  ]),\n",
       " array([46.166667, -1.15    , 17.      ]),\n",
       " array([47.083333,  2.4     , 18.      ]),\n",
       " array([45.266667,  1.766667, 19.      ]),\n",
       " array([47.316667,  5.016667, 21.      ]),\n",
       " array([48.516667, -2.783333, 22.      ]),\n",
       " array([45.183333,  0.716667, 24.      ]),\n",
       " array([47.25    ,  6.033333, 25.      ]),\n",
       " array([44.933333,  4.9     , 26.      ]),\n",
       " array([49.016667,  1.15    , 27.      ]),\n",
       " array([48.45,  1.5 , 28.  ]),\n",
       " array([48. , -4.1, 29. ]),\n",
       " array([44.833333, -0.566667, 33.      ]),\n",
       " array([43.6     ,  3.883333, 34.      ]),\n",
       " array([48.083333, -1.683333, 35.      ]),\n",
       " array([47.383333,  0.683333, 37.      ]),\n",
       " array([45.166667,  5.716667, 38.      ]),\n",
       " array([47.583333,  1.333333, 41.      ]),\n",
       " array([43.233333,  0.083333, 42.      ]),\n",
       " array([47.216667, -1.55    , 44.      ]),\n",
       " array([47.916667,  1.9     , 45.      ]),\n",
       " array([47.466667, -0.55    , 49.      ]),\n",
       " array([49.116667, -1.083333, 50.      ]),\n",
       " array([48.958333,  4.366667, 51.      ]),\n",
       " array([48.116667,  5.133333, 52.      ]),\n",
       " array([48.066667, -0.766667, 53.      ]),\n",
       " array([48.683333,  6.2     , 54.      ]),\n",
       " array([47.666667, -2.75    , 56.      ]),\n",
       " array([49.133333,  6.166667, 57.      ]),\n",
       " array([46.983333,  3.166667, 58.      ]),\n",
       " array([50.633333,  3.066667, 59.      ]),\n",
       " array([49.433333,  2.083333, 60.      ]),\n",
       " array([48.433333,  0.083333, 61.      ]),\n",
       " array([50.283333,  2.783333, 62.      ]),\n",
       " array([48.083333,  7.366667, 68.      ]),\n",
       " array([45.75,  4.85, 69.  ]),\n",
       " array([48. ,  0.2, 72. ]),\n",
       " array([48.866667,  2.333333, 75.      ]),\n",
       " array([49.433333,  1.083333, 76.      ]),\n",
       " array([48.533333,  2.666667, 77.      ]),\n",
       " array([48.8     ,  2.133333, 78.      ]),\n",
       " array([46.316667, -0.466667, 79.      ]),\n",
       " array([49.9,  2.3, 80. ]),\n",
       " array([43.933333,  2.15    , 81.      ]),\n",
       " array([43.116667,  5.933333, 83.      ]),\n",
       " array([46.666667, -1.433333, 85.      ]),\n",
       " array([46.583333,  0.333333, 86.      ]),\n",
       " array([45.85,  1.25, 87.  ]),\n",
       " array([48.633333,  2.45    , 91.      ]),\n",
       " array([48.9,  2.2, 92. ]),\n",
       " array([48.9 ,  2.45, 93.  ]),\n",
       " array([48.783333,  2.466667, 94.      ]),\n",
       " array([49.033333,  2.066667, 95.      ]),\n",
       " array([49.566667,  3.616667,  2.      ]),\n",
       " array([43.7 ,  7.25,  6.  ]),\n",
       " array([49.766667,  4.716667,  8.      ]),\n",
       " array([43.3,  5.4, 13. ]),\n",
       " array([49.183333, -0.35    , 14.      ]),\n",
       " array([45.65,  0.15, 16.  ]),\n",
       " array([46.166667, -1.15    , 17.      ]),\n",
       " array([47.083333,  2.4     , 18.      ]),\n",
       " array([47.316667,  5.016667, 21.      ]),\n",
       " array([48.516667, -2.783333, 22.      ]),\n",
       " array([49.016667,  1.15    , 27.      ]),\n",
       " array([48.45,  1.5 , 28.  ]),\n",
       " array([48. , -4.1, 29. ]),\n",
       " array([44.833333, -0.566667, 33.      ]),\n",
       " array([43.6     ,  3.883333, 34.      ]),\n",
       " array([48.083333, -1.683333, 35.      ]),\n",
       " array([46.816667,  1.7     , 36.      ]),\n",
       " array([47.383333,  0.683333, 37.      ]),\n",
       " array([45.166667,  5.716667, 38.      ]),\n",
       " array([46.666667,  5.55    , 39.      ]),\n",
       " array([47.583333,  1.333333, 41.      ]),\n",
       " array([43.233333,  0.083333, 42.      ]),\n",
       " array([47.216667, -1.55    , 44.      ]),\n",
       " array([47.916667,  1.9     , 45.      ]),\n",
       " array([47.466667, -0.55    , 49.      ]),\n",
       " array([49.116667, -1.083333, 50.      ]),\n",
       " array([48.958333,  4.366667, 51.      ]),\n",
       " array([48.116667,  5.133333, 52.      ]),\n",
       " array([48.066667, -0.766667, 53.      ]),\n",
       " array([48.683333,  6.2     , 54.      ]),\n",
       " array([48.783333,  5.166667, 55.      ]),\n",
       " array([47.666667, -2.75    , 56.      ]),\n",
       " array([49.133333,  6.166667, 57.      ]),\n",
       " array([50.633333,  3.066667, 59.      ]),\n",
       " array([49.433333,  2.083333, 60.      ]),\n",
       " array([48.433333,  0.083333, 61.      ]),\n",
       " array([50.283333,  2.783333, 62.      ]),\n",
       " array([45.783333,  3.083333, 63.      ]),\n",
       " array([43.3     , -0.366667, 64.      ]),\n",
       " array([48.583333,  7.75    , 67.      ]),\n",
       " array([45.75,  4.85, 69.  ]),\n",
       " array([46.3     ,  4.833333, 71.      ]),\n",
       " array([48. ,  0.2, 72. ]),\n",
       " array([45.566667,  5.933333, 73.      ]),\n",
       " array([45.9     ,  6.116667, 74.      ]),\n",
       " array([48.866667,  2.333333, 75.      ]),\n",
       " array([49.433333,  1.083333, 76.      ]),\n",
       " array([48.533333,  2.666667, 77.      ]),\n",
       " array([48.8     ,  2.133333, 78.      ]),\n",
       " array([46.316667, -0.466667, 79.      ]),\n",
       " array([49.9,  2.3, 80. ]),\n",
       " array([43.116667,  5.933333, 83.      ]),\n",
       " array([46.666667, -1.433333, 85.      ]),\n",
       " array([46.583333,  0.333333, 86.      ]),\n",
       " array([45.85,  1.25, 87.  ]),\n",
       " array([48.183333,  6.45    , 88.      ]),\n",
       " array([47.8     ,  3.566667, 89.      ]),\n",
       " array([48.633333,  2.45    , 91.      ]),\n",
       " array([48.9,  2.2, 92. ]),\n",
       " array([48.9 ,  2.45, 93.  ]),\n",
       " array([48.783333,  2.466667, 94.      ]),\n",
       " array([49.033333,  2.066667, 95.      ]),\n",
       " array([  0.,   0., 971.]),\n",
       " array([  0.,   0., 974.]),\n",
       " array([46.2     ,  5.216667,  1.      ]),\n",
       " array([49.566667,  3.616667,  2.      ]),\n",
       " array([44.566667,  6.083333,  5.      ]),\n",
       " array([43.7 ,  7.25,  6.  ]),\n",
       " array([44.733333,  4.6     ,  7.      ]),\n",
       " array([48.3     ,  4.083333, 10.      ]),\n",
       " array([43.3,  5.4, 13. ]),\n",
       " array([49.183333, -0.35    , 14.      ]),\n",
       " array([45.65,  0.15, 16.  ]),\n",
       " array([46.166667, -1.15    , 17.      ]),\n",
       " array([47.083333,  2.4     , 18.      ]),\n",
       " array([45.266667,  1.766667, 19.      ]),\n",
       " array([47.316667,  5.016667, 21.      ]),\n",
       " array([48.516667, -2.783333, 22.      ]),\n",
       " array([45.183333,  0.716667, 24.      ]),\n",
       " array([47.25    ,  6.033333, 25.      ]),\n",
       " array([44.933333,  4.9     , 26.      ]),\n",
       " array([49.016667,  1.15    , 27.      ]),\n",
       " array([48.45,  1.5 , 28.  ]),\n",
       " array([48. , -4.1, 29. ]),\n",
       " array([43.6     ,  1.433333, 31.      ]),\n",
       " array([44.833333, -0.566667, 33.      ]),\n",
       " array([43.6     ,  3.883333, 34.      ]),\n",
       " array([48.083333, -1.683333, 35.      ]),\n",
       " array([47.383333,  0.683333, 37.      ]),\n",
       " array([45.166667,  5.716667, 38.      ]),\n",
       " array([47.583333,  1.333333, 41.      ]),\n",
       " array([43.233333,  0.083333, 42.      ]),\n",
       " array([45.04,  3.89, 43.  ]),\n",
       " array([47.216667, -1.55    , 44.      ]),\n",
       " array([47.916667,  1.9     , 45.      ]),\n",
       " array([44.2     ,  0.633333, 47.      ]),\n",
       " array([47.466667, -0.55    , 49.      ]),\n",
       " array([49.116667, -1.083333, 50.      ]),\n",
       " array([48.958333,  4.366667, 51.      ]),\n",
       " array([48.116667,  5.133333, 52.      ]),\n",
       " array([48.066667, -0.766667, 53.      ]),\n",
       " array([48.683333,  6.2     , 54.      ]),\n",
       " array([48.783333,  5.166667, 55.      ]),\n",
       " array([47.666667, -2.75    , 56.      ]),\n",
       " array([49.133333,  6.166667, 57.      ]),\n",
       " array([46.983333,  3.166667, 58.      ]),\n",
       " array([50.633333,  3.066667, 59.      ]),\n",
       " array([49.433333,  2.083333, 60.      ]),\n",
       " array([48.433333,  0.083333, 61.      ]),\n",
       " array([50.283333,  2.783333, 62.      ]),\n",
       " array([45.783333,  3.083333, 63.      ]),\n",
       " array([43.3     , -0.366667, 64.      ]),\n",
       " array([48.583333,  7.75    , 67.      ]),\n",
       " array([48.083333,  7.366667, 68.      ]),\n",
       " array([45.75,  4.85, 69.  ]),\n",
       " array([46.3     ,  4.833333, 71.      ]),\n",
       " array([48. ,  0.2, 72. ]),\n",
       " array([45.9     ,  6.116667, 74.      ]),\n",
       " array([48.866667,  2.333333, 75.      ]),\n",
       " array([49.433333,  1.083333, 76.      ]),\n",
       " array([48.533333,  2.666667, 77.      ]),\n",
       " array([48.8     ,  2.133333, 78.      ]),\n",
       " array([46.316667, -0.466667, 79.      ]),\n",
       " array([49.9,  2.3, 80. ]),\n",
       " array([44.016667,  1.35    , 82.      ]),\n",
       " array([43.116667,  5.933333, 83.      ]),\n",
       " array([46.666667, -1.433333, 85.      ]),\n",
       " array([46.583333,  0.333333, 86.      ]),\n",
       " array([45.85,  1.25, 87.  ]),\n",
       " array([48.183333,  6.45    , 88.      ]),\n",
       " array([47.8     ,  3.566667, 89.      ]),\n",
       " array([48.633333,  2.45    , 91.      ]),\n",
       " array([48.9,  2.2, 92. ]),\n",
       " array([48.9 ,  2.45, 93.  ]),\n",
       " array([48.783333,  2.466667, 94.      ]),\n",
       " array([49.033333,  2.066667, 95.      ]),\n",
       " array([  0.,   0., 971.]),\n",
       " array([  0.,   0., 972.]),\n",
       " array([46.2     ,  5.216667,  1.      ]),\n",
       " array([49.566667,  3.616667,  2.      ]),\n",
       " array([46.566667,  3.333333,  3.      ]),\n",
       " array([43.7 ,  7.25,  6.  ]),\n",
       " array([49.766667,  4.716667,  8.      ]),\n",
       " array([48.3     ,  4.083333, 10.      ]),\n",
       " array([43.3,  5.4, 13. ]),\n",
       " array([49.183333, -0.35    , 14.      ]),\n",
       " array([45.65,  0.15, 16.  ]),\n",
       " array([46.166667, -1.15    , 17.      ]),\n",
       " array([47.083333,  2.4     , 18.      ]),\n",
       " array([47.316667,  5.016667, 21.      ]),\n",
       " array([48.516667, -2.783333, 22.      ]),\n",
       " array([47.25    ,  6.033333, 25.      ]),\n",
       " array([44.933333,  4.9     , 26.      ]),\n",
       " array([49.016667,  1.15    , 27.      ]),\n",
       " array([48.45,  1.5 , 28.  ]),\n",
       " array([48. , -4.1, 29. ]),\n",
       " array([43.833333,  4.35    , 30.      ]),\n",
       " array([43.6     ,  1.433333, 31.      ]),\n",
       " array([44.833333, -0.566667, 33.      ]),\n",
       " array([43.6     ,  3.883333, 34.      ]),\n",
       " array([48.083333, -1.683333, 35.      ]),\n",
       " array([47.383333,  0.683333, 37.      ]),\n",
       " array([45.166667,  5.716667, 38.      ]),\n",
       " array([46.666667,  5.55    , 39.      ]),\n",
       " array([47.583333,  1.333333, 41.      ]),\n",
       " array([43.233333,  0.083333, 42.      ]),\n",
       " array([47.216667, -1.55    , 44.      ]),\n",
       " array([47.916667,  1.9     , 45.      ]),\n",
       " array([47.466667, -0.55    , 49.      ]),\n",
       " array([49.116667, -1.083333, 50.      ]),\n",
       " array([48.958333,  4.366667, 51.      ]),\n",
       " array([48.116667,  5.133333, 52.      ]),\n",
       " array([48.066667, -0.766667, 53.      ]),\n",
       " array([48.683333,  6.2     , 54.      ]),\n",
       " array([48.783333,  5.166667, 55.      ]),\n",
       " array([47.666667, -2.75    , 56.      ]),\n",
       " array([49.133333,  6.166667, 57.      ]),\n",
       " array([46.983333,  3.166667, 58.      ]),\n",
       " array([50.633333,  3.066667, 59.      ]),\n",
       " array([49.433333,  2.083333, 60.      ]),\n",
       " array([48.433333,  0.083333, 61.      ]),\n",
       " array([50.283333,  2.783333, 62.      ]),\n",
       " array([45.783333,  3.083333, 63.      ]),\n",
       " array([48.583333,  7.75    , 67.      ]),\n",
       " array([45.75,  4.85, 69.  ]),\n",
       " array([46.3     ,  4.833333, 71.      ]),\n",
       " array([48. ,  0.2, 72. ]),\n",
       " array([45.566667,  5.933333, 73.      ]),\n",
       " array([45.9     ,  6.116667, 74.      ]),\n",
       " array([48.866667,  2.333333, 75.      ]),\n",
       " array([49.433333,  1.083333, 76.      ]),\n",
       " array([48.533333,  2.666667, 77.      ]),\n",
       " array([48.8     ,  2.133333, 78.      ]),\n",
       " array([46.316667, -0.466667, 79.      ]),\n",
       " array([49.9,  2.3, 80. ]),\n",
       " array([43.933333,  2.15    , 81.      ]),\n",
       " array([43.116667,  5.933333, 83.      ]),\n",
       " array([43.95    ,  4.816667, 84.      ]),\n",
       " array([46.666667, -1.433333, 85.      ]),\n",
       " array([46.583333,  0.333333, 86.      ]),\n",
       " array([45.85,  1.25, 87.  ]),\n",
       " array([48.183333,  6.45    , 88.      ]),\n",
       " array([47.8     ,  3.566667, 89.      ]),\n",
       " array([48.633333,  2.45    , 91.      ]),\n",
       " array([48.9,  2.2, 92. ]),\n",
       " array([48.9 ,  2.45, 93.  ]),\n",
       " array([48.783333,  2.466667, 94.      ]),\n",
       " array([49.033333,  2.066667, 95.      ]),\n",
       " array([  0.,   0., 972.]),\n",
       " array([46.2     ,  5.216667,  1.      ]),\n",
       " array([49.566667,  3.616667,  2.      ]),\n",
       " array([46.566667,  3.333333,  3.      ]),\n",
       " array([44.566667,  6.083333,  5.      ]),\n",
       " array([43.7 ,  7.25,  6.  ]),\n",
       " array([44.733333,  4.6     ,  7.      ]),\n",
       " array([49.766667,  4.716667,  8.      ]),\n",
       " array([48.3     ,  4.083333, 10.      ]),\n",
       " array([43.216667,  2.35    , 11.      ]),\n",
       " array([43.3,  5.4, 13. ]),\n",
       " array([49.183333, -0.35    , 14.      ]),\n",
       " array([44.916667,  2.45    , 15.      ]),\n",
       " array([45.65,  0.15, 16.  ]),\n",
       " array([46.166667, -1.15    , 17.      ]),\n",
       " array([47.083333,  2.4     , 18.      ]),\n",
       " array([45.266667,  1.766667, 19.      ]),\n",
       " array([47.316667,  5.016667, 21.      ]),\n",
       " array([48.516667, -2.783333, 22.      ]),\n",
       " array([45.183333,  0.716667, 24.      ]),\n",
       " array([47.25    ,  6.033333, 25.      ]),\n",
       " array([44.933333,  4.9     , 26.      ]),\n",
       " array([49.016667,  1.15    , 27.      ]),\n",
       " array([48.45,  1.5 , 28.  ]),\n",
       " array([48. , -4.1, 29. ]),\n",
       " array([43.833333,  4.35    , 30.      ]),\n",
       " array([43.6     ,  1.433333, 31.      ]),\n",
       " array([44.833333, -0.566667, 33.      ]),\n",
       " array([43.6     ,  3.883333, 34.      ]),\n",
       " array([48.083333, -1.683333, 35.      ]),\n",
       " array([46.816667,  1.7     , 36.      ]),\n",
       " array([47.383333,  0.683333, 37.      ]),\n",
       " array([45.166667,  5.716667, 38.      ]),\n",
       " array([46.666667,  5.55    , 39.      ]),\n",
       " array([43.883333, -0.5     , 40.      ]),\n",
       " array([47.583333,  1.333333, 41.      ]),\n",
       " array([43.233333,  0.083333, 42.      ]),\n",
       " array([47.216667, -1.55    , 44.      ]),\n",
       " array([47.916667,  1.9     , 45.      ]),\n",
       " array([44.433333,  1.433333, 46.      ]),\n",
       " array([47.466667, -0.55    , 49.      ]),\n",
       " array([49.116667, -1.083333, 50.      ]),\n",
       " array([48.958333,  4.366667, 51.      ]),\n",
       " ...]"
      ]
     },
     "execution_count": 165,
     "metadata": {},
     "output_type": "execute_result"
    }
   ],
   "source": [
    "nbr_loic.COORDS.values.tolist()"
   ]
  },
  {
   "cell_type": "code",
   "execution_count": null,
   "metadata": {
    "hidden": true
   },
   "outputs": [],
   "source": []
  }
 ],
 "metadata": {
  "kernelspec": {
   "display_name": "Python 3",
   "language": "python",
   "name": "python3"
  },
  "language_info": {
   "codemirror_mode": {
    "name": "ipython",
    "version": 3
   },
   "file_extension": ".py",
   "mimetype": "text/x-python",
   "name": "python",
   "nbconvert_exporter": "python",
   "pygments_lexer": "ipython3",
   "version": "3.7.4"
  },
  "toc": {
   "base_numbering": 1,
   "nav_menu": {},
   "number_sections": true,
   "sideBar": true,
   "skip_h1_title": false,
   "title_cell": "Table of Contents",
   "title_sidebar": "Contents",
   "toc_cell": false,
   "toc_position": {
    "height": "calc(100% - 180px)",
    "left": "10px",
    "top": "150px",
    "width": "365px"
   },
   "toc_section_display": true,
   "toc_window_display": true
  }
 },
 "nbformat": 4,
 "nbformat_minor": 2
}
